{
 "cells": [
  {
   "cell_type": "markdown",
   "metadata": {},
   "source": [
    "# Things i'll need"
   ]
  },
  {
   "cell_type": "code",
   "execution_count": 21,
   "metadata": {},
   "outputs": [],
   "source": [
    "import nltk\n",
    "import pandas as pd\n",
    "\n",
    "# Gensim\n",
    "import gensim\n",
    "import gensim.corpora as corpora\n",
    "from gensim.utils import simple_preprocess\n",
    "from gensim.models import CoherenceModel\n",
    "\n",
    "# Plotting tools\n",
    "import pyLDAvis\n",
    "import pyLDAvis.gensim "
   ]
  },
  {
   "cell_type": "markdown",
   "metadata": {},
   "source": [
    "# Importing csv file"
   ]
  },
  {
   "cell_type": "code",
   "execution_count": 11,
   "metadata": {},
   "outputs": [],
   "source": [
    "tweets_csv = pd.read_csv('tweets.csv')\n",
    "docs = list(tweets_csv['text'])"
   ]
  },
  {
   "cell_type": "markdown",
   "metadata": {},
   "source": [
    "# Preprocessing"
   ]
  },
  {
   "cell_type": "code",
   "execution_count": 17,
   "metadata": {},
   "outputs": [],
   "source": [
    "from nltk.stem.wordnet import WordNetLemmatizer\n",
    "from nltk.tokenize import RegexpTokenizer\n",
    "\n",
    "def docs_preprocessor(docs):\n",
    "    tokenizer = RegexpTokenizer(r'\\w+')\n",
    "    for idx in range(len(docs)):\n",
    "        docs[idx] = str(docs[idx]).lower()  # Convert to lowercase.\n",
    "        docs[idx] = tokenizer.tokenize(docs[idx])  # Split into words.\n",
    "\n",
    "    # Remove numbers, but not words that contain numbers.\n",
    "    docs = [[token for token in doc if not token.isdigit()] for doc in docs]\n",
    "    \n",
    "    # Remove words that are only one character.\n",
    "    docs = [[token for token in doc if len(token) > 3] for doc in docs]\n",
    "    \n",
    "    # Lemmatize all words in documents.\n",
    "    lemmatizer = WordNetLemmatizer()\n",
    "    docs = [[lemmatizer.lemmatize(token) for token in doc] for doc in docs]\n",
    "  \n",
    "    return docs"
   ]
  },
  {
   "cell_type": "code",
   "execution_count": 18,
   "metadata": {},
   "outputs": [],
   "source": [
    "docs = docs_preprocessor(docs)"
   ]
  },
  {
   "cell_type": "code",
   "execution_count": 19,
   "metadata": {},
   "outputs": [
    {
     "name": "stderr",
     "output_type": "stream",
     "text": [
      "/Users/chris/anaconda3/lib/python3.6/site-packages/gensim/models/phrases.py:494: UserWarning: For a faster implementation, use the gensim.models.phrases.Phraser class\n",
      "  warnings.warn(\"For a faster implementation, use the gensim.models.phrases.Phraser class\")\n"
     ]
    }
   ],
   "source": [
    "from gensim.models import Phrases\n",
    "# Add bigrams and trigrams to docs (only ones that appear 10 times or more).\n",
    "bigram = Phrases(docs, min_count=10)\n",
    "trigram = Phrases(bigram[docs])\n",
    "\n",
    "for idx in range(len(docs)):\n",
    "    for token in bigram[docs[idx]]:\n",
    "        if '_' in token:\n",
    "            # Token is a bigram, add to document.\n",
    "            docs[idx].append(token)\n",
    "    for token in trigram[docs[idx]]:\n",
    "        if '_' in token:\n",
    "            # Token is a bigram, add to document.\n",
    "            docs[idx].append(token)"
   ]
  },
  {
   "cell_type": "markdown",
   "metadata": {},
   "source": [
    "# Creating a Corpus"
   ]
  },
  {
   "cell_type": "code",
   "execution_count": 22,
   "metadata": {},
   "outputs": [
    {
     "name": "stdout",
     "output_type": "stream",
     "text": [
      "Number of unique words in initital documents: 230440\n",
      "Number of unique words after removing rare and common words: 19774\n"
     ]
    }
   ],
   "source": [
    "from gensim.corpora import Dictionary\n",
    "\n",
    "# Create a dictionary representation of the documents.\n",
    "dictionary = Dictionary(docs)\n",
    "print('Number of unique words in initital documents:', len(dictionary))\n",
    "\n",
    "# Filter out words that occur less than 10 documents, or more than 20% of the documents.\n",
    "dictionary.filter_extremes(no_below=10, no_above=0.2)\n",
    "print('Number of unique words after removing rare and common words:', len(dictionary))"
   ]
  },
  {
   "cell_type": "code",
   "execution_count": 24,
   "metadata": {},
   "outputs": [
    {
     "name": "stdout",
     "output_type": "stream",
     "text": [
      "Number of unique tokens: 19774\n",
      "Number of documents: 203451\n"
     ]
    }
   ],
   "source": [
    "corpus = [dictionary.doc2bow(doc) for doc in docs]\n",
    "print('Number of unique tokens: %d' % len(dictionary))\n",
    "print('Number of documents: %d' % len(corpus))"
   ]
  },
  {
   "cell_type": "markdown",
   "metadata": {},
   "source": [
    "# Creating LDA Model"
   ]
  },
  {
   "cell_type": "code",
   "execution_count": 25,
   "metadata": {},
   "outputs": [
    {
     "name": "stderr",
     "output_type": "stream",
     "text": [
      "/Users/chris/anaconda3/lib/python3.6/site-packages/gensim/models/ldamodel.py:775: RuntimeWarning: divide by zero encountered in log\n",
      "  diff = np.log(self.expElogbeta)\n"
     ]
    },
    {
     "name": "stdout",
     "output_type": "stream",
     "text": [
      "CPU times: user 57min 12s, sys: 40 s, total: 57min 52s\n",
      "Wall time: 2h 35min 8s\n"
     ]
    }
   ],
   "source": [
    "from gensim.models import LdaModel\n",
    "num_topics = 20\n",
    "chunksize = 500\n",
    "passes = 15\n",
    "iterations = 100\n",
    "eval_every = 1\n",
    "\n",
    "temp = dictionary[0]  # This is only to \\\"load\\\" the dictionary.\n",
    "id2word = dictionary.id2token\n",
    "\n",
    "%time model = LdaModel(corpus=corpus, id2word=id2word, chunksize=chunksize, \\\n",
    "                       alpha='auto', eta='auto', \\\n",
    "                       iterations=iterations, num_topics=num_topics, \\\n",
    "                       passes=passes, eval_every=eval_every)"
   ]
  },
  {
   "cell_type": "code",
   "execution_count": 26,
   "metadata": {},
   "outputs": [],
   "source": [
    "model.save('lda.model')"
   ]
  },
  {
   "cell_type": "markdown",
   "metadata": {},
   "source": [
    "# Displaying Model"
   ]
  },
  {
   "cell_type": "code",
   "execution_count": 27,
   "metadata": {},
   "outputs": [],
   "source": [
    "import pyLDAvis.gensim\n",
    "pyLDAvis.enable_notebook()"
   ]
  },
  {
   "cell_type": "code",
   "execution_count": 28,
   "metadata": {},
   "outputs": [
    {
     "name": "stderr",
     "output_type": "stream",
     "text": [
      "/Users/chris/anaconda3/lib/python3.6/site-packages/pyLDAvis/_prepare.py:257: FutureWarning: Sorting because non-concatenation axis is not aligned. A future version\n",
      "of pandas will change to not sort by default.\n",
      "\n",
      "To accept the future behavior, pass 'sort=True'.\n",
      "\n",
      "To retain the current behavior and silence the warning, pass sort=False\n",
      "\n",
      "  return pd.concat([default_term_info] + list(topic_dfs))\n"
     ]
    },
    {
     "data": {
      "text/html": [
       "\n",
       "<link rel=\"stylesheet\" type=\"text/css\" href=\"https://cdn.rawgit.com/bmabey/pyLDAvis/files/ldavis.v1.0.0.css\">\n",
       "\n",
       "\n",
       "<div id=\"ldavis_el7771122709898567160243258\"></div>\n",
       "<script type=\"text/javascript\">\n",
       "\n",
       "var ldavis_el7771122709898567160243258_data = {\"mdsDat\": {\"x\": [-0.019794003683347695, 0.03904647769390652, 0.0411030413682545, 0.05437361321641905, 0.037181743249103005, 0.03756194416371268, 0.04078853828356109, 0.03766132697035895, 0.0478680927889986, 0.03729617753417425, -0.3316157738682631, 0.03662804730394039, 0.04937334095561902, 0.03617758426242852, 0.0395420642006536, 0.03620506791633842, -0.3312008353759269, 0.047335751860112914, 0.03590357302343939, 0.028564228136516257], \"y\": [0.34971942454637966, -0.017166789871151358, -0.03629615957744419, -0.0921315675333471, -0.02045485238515285, -0.019788900588032197, -0.0258266789789081, -0.01951689733626041, -0.06631835738507934, -0.0200992723540547, -0.059757598232499515, -0.020920154514038346, -0.06936785525688659, -0.02135571031102469, -0.02676672554180436, -0.021330505074230198, -0.012421543975560598, -0.07320022682195138, -0.021614485127600263, 0.294614856318646], \"topics\": [1, 2, 3, 4, 5, 6, 7, 8, 9, 10, 11, 12, 13, 14, 15, 16, 17, 18, 19, 20], \"cluster\": [1, 1, 1, 1, 1, 1, 1, 1, 1, 1, 1, 1, 1, 1, 1, 1, 1, 1, 1, 1], \"Freq\": [11.32309627532959, 6.732718467712402, 5.688046932220459, 5.635257244110107, 5.191974639892578, 5.121434688568115, 5.096360683441162, 5.030825138092041, 4.856784820556641, 4.690160274505615, 4.535309791564941, 4.329830169677734, 4.258438587188721, 4.116918563842773, 4.089089870452881, 4.024917125701904, 4.010526657104492, 3.9604403972625732, 3.8350675106048584, 3.472795248031616]}, \"tinfo\": {\"Category\": [\"Default\", \"Default\", \"Default\", \"Default\", \"Default\", \"Default\", \"Default\", \"Default\", \"Default\", \"Default\", \"Default\", \"Default\", \"Default\", \"Default\", \"Default\", \"Default\", \"Default\", \"Default\", \"Default\", \"Default\", \"Default\", \"Default\", \"Default\", \"Default\", \"Default\", \"Default\", \"Default\", \"Default\", \"Default\", \"Default\", \"Topic1\", \"Topic1\", \"Topic1\", \"Topic1\", \"Topic1\", \"Topic1\", \"Topic1\", \"Topic1\", \"Topic1\", \"Topic1\", \"Topic1\", \"Topic1\", \"Topic1\", \"Topic1\", \"Topic1\", \"Topic1\", \"Topic1\", \"Topic1\", \"Topic1\", \"Topic1\", \"Topic1\", \"Topic1\", \"Topic1\", \"Topic1\", \"Topic1\", \"Topic1\", \"Topic1\", \"Topic1\", \"Topic1\", \"Topic1\", \"Topic1\", \"Topic1\", \"Topic2\", \"Topic2\", \"Topic2\", \"Topic2\", \"Topic2\", \"Topic2\", \"Topic2\", \"Topic2\", \"Topic2\", \"Topic2\", \"Topic2\", \"Topic2\", \"Topic2\", \"Topic2\", \"Topic2\", \"Topic2\", \"Topic2\", \"Topic2\", \"Topic2\", \"Topic2\", \"Topic2\", \"Topic2\", \"Topic2\", \"Topic2\", \"Topic2\", \"Topic2\", \"Topic2\", \"Topic2\", \"Topic2\", \"Topic2\", \"Topic3\", \"Topic3\", \"Topic3\", \"Topic3\", \"Topic3\", \"Topic3\", \"Topic3\", \"Topic3\", \"Topic3\", \"Topic3\", \"Topic3\", \"Topic3\", \"Topic3\", \"Topic3\", \"Topic3\", \"Topic3\", \"Topic3\", \"Topic3\", \"Topic3\", \"Topic3\", \"Topic3\", \"Topic3\", \"Topic3\", \"Topic3\", \"Topic3\", \"Topic3\", \"Topic3\", \"Topic3\", \"Topic3\", \"Topic3\", \"Topic4\", \"Topic4\", \"Topic4\", \"Topic4\", \"Topic4\", \"Topic4\", \"Topic4\", \"Topic4\", \"Topic4\", \"Topic4\", \"Topic4\", \"Topic4\", \"Topic4\", \"Topic4\", \"Topic4\", \"Topic4\", \"Topic4\", \"Topic4\", \"Topic4\", \"Topic4\", \"Topic4\", \"Topic4\", \"Topic4\", \"Topic4\", \"Topic4\", \"Topic4\", \"Topic4\", \"Topic4\", \"Topic4\", \"Topic4\", \"Topic4\", \"Topic5\", \"Topic5\", \"Topic5\", \"Topic5\", \"Topic5\", \"Topic5\", \"Topic5\", \"Topic5\", \"Topic5\", \"Topic5\", \"Topic5\", \"Topic5\", \"Topic5\", \"Topic5\", \"Topic5\", \"Topic5\", \"Topic5\", \"Topic5\", \"Topic5\", \"Topic5\", \"Topic5\", \"Topic5\", \"Topic5\", \"Topic5\", \"Topic5\", \"Topic5\", \"Topic5\", \"Topic5\", \"Topic5\", \"Topic5\", \"Topic6\", \"Topic6\", \"Topic6\", \"Topic6\", \"Topic6\", \"Topic6\", \"Topic6\", \"Topic6\", \"Topic6\", \"Topic6\", \"Topic6\", \"Topic6\", \"Topic6\", \"Topic6\", \"Topic6\", \"Topic6\", \"Topic6\", \"Topic6\", \"Topic6\", \"Topic6\", \"Topic6\", \"Topic6\", \"Topic6\", \"Topic6\", \"Topic6\", \"Topic6\", \"Topic6\", \"Topic6\", \"Topic6\", \"Topic6\", \"Topic7\", \"Topic7\", \"Topic7\", \"Topic7\", \"Topic7\", \"Topic7\", \"Topic7\", \"Topic7\", \"Topic7\", \"Topic7\", \"Topic7\", \"Topic7\", \"Topic7\", \"Topic7\", \"Topic7\", \"Topic7\", \"Topic7\", \"Topic7\", \"Topic7\", \"Topic7\", \"Topic7\", \"Topic7\", \"Topic7\", \"Topic7\", \"Topic7\", \"Topic7\", \"Topic7\", \"Topic7\", \"Topic7\", \"Topic7\", \"Topic7\", \"Topic8\", \"Topic8\", \"Topic8\", \"Topic8\", \"Topic8\", \"Topic8\", \"Topic8\", \"Topic8\", \"Topic8\", \"Topic8\", \"Topic8\", \"Topic8\", \"Topic8\", \"Topic8\", \"Topic8\", \"Topic8\", \"Topic8\", \"Topic8\", \"Topic8\", \"Topic8\", \"Topic8\", \"Topic8\", \"Topic8\", \"Topic8\", \"Topic8\", \"Topic8\", \"Topic8\", \"Topic8\", \"Topic8\", \"Topic8\", \"Topic9\", \"Topic9\", \"Topic9\", \"Topic9\", \"Topic9\", \"Topic9\", \"Topic9\", \"Topic9\", \"Topic9\", \"Topic9\", \"Topic9\", \"Topic9\", \"Topic9\", \"Topic9\", \"Topic9\", \"Topic9\", \"Topic9\", \"Topic9\", \"Topic9\", \"Topic9\", \"Topic9\", \"Topic9\", \"Topic9\", \"Topic9\", \"Topic9\", \"Topic9\", \"Topic9\", \"Topic9\", \"Topic9\", \"Topic9\", \"Topic9\", \"Topic10\", \"Topic10\", \"Topic10\", \"Topic10\", \"Topic10\", \"Topic10\", \"Topic10\", \"Topic10\", \"Topic10\", \"Topic10\", \"Topic10\", \"Topic10\", \"Topic10\", \"Topic10\", \"Topic10\", \"Topic10\", \"Topic10\", \"Topic10\", \"Topic10\", \"Topic10\", \"Topic10\", \"Topic10\", \"Topic10\", \"Topic10\", \"Topic10\", \"Topic10\", \"Topic10\", \"Topic10\", \"Topic10\", \"Topic10\", \"Topic11\", \"Topic11\", \"Topic11\", \"Topic11\", \"Topic11\", \"Topic11\", \"Topic11\", \"Topic11\", \"Topic11\", \"Topic11\", \"Topic11\", \"Topic11\", \"Topic11\", \"Topic11\", \"Topic11\", \"Topic11\", \"Topic11\", \"Topic11\", \"Topic11\", \"Topic11\", \"Topic11\", \"Topic11\", \"Topic11\", \"Topic11\", \"Topic11\", \"Topic11\", \"Topic11\", \"Topic11\", \"Topic11\", \"Topic11\", \"Topic11\", \"Topic12\", \"Topic12\", \"Topic12\", \"Topic12\", \"Topic12\", \"Topic12\", \"Topic12\", \"Topic12\", \"Topic12\", \"Topic12\", \"Topic12\", \"Topic12\", \"Topic12\", \"Topic12\", \"Topic12\", \"Topic12\", \"Topic12\", \"Topic12\", \"Topic12\", \"Topic12\", \"Topic12\", \"Topic12\", \"Topic12\", \"Topic12\", \"Topic12\", \"Topic12\", \"Topic12\", \"Topic12\", \"Topic12\", \"Topic12\", \"Topic13\", \"Topic13\", \"Topic13\", \"Topic13\", \"Topic13\", \"Topic13\", \"Topic13\", \"Topic13\", \"Topic13\", \"Topic13\", \"Topic13\", \"Topic13\", \"Topic13\", \"Topic13\", \"Topic13\", \"Topic13\", \"Topic13\", \"Topic13\", \"Topic13\", \"Topic13\", \"Topic13\", \"Topic13\", \"Topic13\", \"Topic13\", \"Topic13\", \"Topic13\", \"Topic13\", \"Topic13\", \"Topic13\", \"Topic13\", \"Topic13\", \"Topic14\", \"Topic14\", \"Topic14\", \"Topic14\", \"Topic14\", \"Topic14\", \"Topic14\", \"Topic14\", \"Topic14\", \"Topic14\", \"Topic14\", \"Topic14\", \"Topic14\", \"Topic14\", \"Topic14\", \"Topic14\", \"Topic14\", \"Topic14\", \"Topic14\", \"Topic14\", \"Topic14\", \"Topic14\", \"Topic14\", \"Topic14\", \"Topic14\", \"Topic14\", \"Topic14\", \"Topic14\", \"Topic14\", \"Topic14\", \"Topic15\", \"Topic15\", \"Topic15\", \"Topic15\", \"Topic15\", \"Topic15\", \"Topic15\", \"Topic15\", \"Topic15\", \"Topic15\", \"Topic15\", \"Topic15\", \"Topic15\", \"Topic15\", \"Topic15\", \"Topic15\", \"Topic15\", \"Topic15\", \"Topic15\", \"Topic15\", \"Topic15\", \"Topic15\", \"Topic15\", \"Topic15\", \"Topic15\", \"Topic15\", \"Topic15\", \"Topic15\", \"Topic15\", \"Topic15\", \"Topic16\", \"Topic16\", \"Topic16\", \"Topic16\", \"Topic16\", \"Topic16\", \"Topic16\", \"Topic16\", \"Topic16\", \"Topic16\", \"Topic16\", \"Topic16\", \"Topic16\", \"Topic16\", \"Topic16\", \"Topic16\", \"Topic16\", \"Topic16\", \"Topic16\", \"Topic16\", \"Topic16\", \"Topic16\", \"Topic16\", \"Topic16\", \"Topic16\", \"Topic16\", \"Topic16\", \"Topic16\", \"Topic16\", \"Topic16\", \"Topic17\", \"Topic17\", \"Topic17\", \"Topic17\", \"Topic17\", \"Topic17\", \"Topic17\", \"Topic17\", \"Topic17\", \"Topic17\", \"Topic17\", \"Topic17\", \"Topic17\", \"Topic17\", \"Topic17\", \"Topic17\", \"Topic17\", \"Topic17\", \"Topic17\", \"Topic17\", \"Topic17\", \"Topic17\", \"Topic17\", \"Topic17\", \"Topic17\", \"Topic17\", \"Topic17\", \"Topic17\", \"Topic17\", \"Topic17\", \"Topic17\", \"Topic17\", \"Topic18\", \"Topic18\", \"Topic18\", \"Topic18\", \"Topic18\", \"Topic18\", \"Topic18\", \"Topic18\", \"Topic18\", \"Topic18\", \"Topic18\", \"Topic18\", \"Topic18\", \"Topic18\", \"Topic18\", \"Topic18\", \"Topic18\", \"Topic18\", \"Topic18\", \"Topic18\", \"Topic18\", \"Topic18\", \"Topic18\", \"Topic18\", \"Topic18\", \"Topic18\", \"Topic18\", \"Topic18\", \"Topic18\", \"Topic18\", \"Topic19\", \"Topic19\", \"Topic19\", \"Topic19\", \"Topic19\", \"Topic19\", \"Topic19\", \"Topic19\", \"Topic19\", \"Topic19\", \"Topic19\", \"Topic19\", \"Topic19\", \"Topic19\", \"Topic19\", \"Topic19\", \"Topic19\", \"Topic19\", \"Topic19\", \"Topic19\", \"Topic19\", \"Topic19\", \"Topic19\", \"Topic19\", \"Topic19\", \"Topic19\", \"Topic19\", \"Topic19\", \"Topic19\", \"Topic19\", \"Topic20\", \"Topic20\", \"Topic20\", \"Topic20\", \"Topic20\", \"Topic20\", \"Topic20\", \"Topic20\", \"Topic20\", \"Topic20\", \"Topic20\", \"Topic20\", \"Topic20\", \"Topic20\", \"Topic20\", \"Topic20\", \"Topic20\", \"Topic20\", \"Topic20\", \"Topic20\", \"Topic20\", \"Topic20\", \"Topic20\", \"Topic20\", \"Topic20\", \"Topic20\", \"Topic20\", \"Topic20\", \"Topic20\", \"Topic20\"], \"Freq\": [31942.0, 13136.0, 13898.0, 11684.0, 15854.0, 11355.0, 14905.0, 10650.0, 13085.0, 9057.0, 7751.0, 7166.0, 9405.0, 8848.0, 8563.0, 8548.0, 6159.0, 5924.0, 7836.0, 5710.0, 7641.0, 5486.0, 4326.0, 4759.0, 5026.0, 4949.0, 4408.0, 4058.0, 4258.0, 3894.0, 15854.828125, 14905.322265625, 13085.6279296875, 9405.615234375, 8848.7666015625, 8563.30859375, 8548.2724609375, 7836.28857421875, 7640.95751953125, 4240.52197265625, 3806.079833984375, 3579.5947265625, 3516.42236328125, 3413.1767578125, 3238.548828125, 3061.076171875, 2749.939453125, 2499.58984375, 2445.22119140625, 2342.977783203125, 1947.521728515625, 1882.30224609375, 1829.585693359375, 1688.3963623046875, 1632.282958984375, 1604.74365234375, 1392.697509765625, 1304.6029052734375, 1215.6248779296875, 1163.73583984375, 4091.730224609375, 2504.2861328125, 31942.62109375, 13898.4873046875, 10650.0302734375, 5026.09423828125, 4367.1572265625, 4056.543701171875, 1806.112548828125, 1346.19482421875, 1215.9075927734375, 1198.995361328125, 1078.779296875, 1053.6783447265625, 967.1790161132812, 895.9535522460938, 809.8703002929688, 771.6207885742188, 769.3665161132812, 747.6717529296875, 649.4700927734375, 632.0674438476562, 611.2598266601562, 562.3681640625, 538.1171264648438, 537.7134399414062, 523.9427490234375, 508.1254577636719, 500.5391845703125, 481.24005126953125, 476.5320129394531, 468.1485900878906, 7751.17626953125, 3552.03662109375, 2564.53759765625, 2013.8018798828125, 1632.0489501953125, 1430.8216552734375, 1297.5306396484375, 1149.7801513671875, 1064.4400634765625, 1050.2249755859375, 1043.5970458984375, 970.7342529296875, 913.1122436523438, 894.5963134765625, 893.0925903320312, 845.0405883789062, 837.9093627929688, 811.7918701171875, 731.876708984375, 719.9990234375, 719.2900390625, 697.0697021484375, 635.5829467773438, 613.76318359375, 593.6779174804688, 593.48681640625, 563.9581298828125, 561.2272338867188, 557.4214477539062, 554.0953369140625, 7166.19873046875, 5486.59130859375, 4759.1748046875, 3572.107666015625, 3105.425048828125, 2453.08935546875, 2051.743408203125, 2022.5107421875, 1999.4097900390625, 1634.3753662109375, 1513.70263671875, 1482.6715087890625, 1479.1256103515625, 1267.2431640625, 1070.849853515625, 1010.448486328125, 986.511962890625, 979.6494750976562, 949.6522216796875, 894.3504028320312, 851.7332153320312, 815.628662109375, 794.250732421875, 742.9317016601562, 684.8329467773438, 623.6207275390625, 618.8463745117188, 597.5325927734375, 593.8375244140625, 589.6057739257812, 733.14794921875, 9057.5830078125, 5710.16748046875, 3449.222412109375, 2977.62841796875, 2882.137939453125, 2383.84375, 2028.6004638671875, 1682.530517578125, 1457.37890625, 1174.4765625, 1142.4266357421875, 1109.377197265625, 1078.7681884765625, 871.9833984375, 838.1821899414062, 708.0770263671875, 694.27197265625, 690.8692626953125, 685.4389038085938, 577.186767578125, 562.6494750976562, 556.5477294921875, 537.8753662109375, 526.3435668945312, 524.4906616210938, 491.00054931640625, 487.31292724609375, 467.0533142089844, 467.6227111816406, 454.9128112792969, 6159.0234375, 4258.76513671875, 3577.0400390625, 3179.359375, 2995.52392578125, 2487.244384765625, 2484.00146484375, 2098.49267578125, 1906.7362060546875, 1541.745849609375, 1519.5902099609375, 1508.318115234375, 1463.812255859375, 1345.471923828125, 1087.669677734375, 1014.6068115234375, 986.6095581054688, 908.659912109375, 892.8323974609375, 886.8795166015625, 869.3209838867188, 837.73388671875, 834.8644409179688, 784.6609497070312, 764.3171997070312, 757.9843139648438, 724.7102661132812, 696.5672607421875, 616.6629638671875, 613.3236083984375, 13135.875, 11684.0693359375, 11355.0068359375, 2657.10546875, 2070.442626953125, 1719.6513671875, 1615.0679931640625, 1491.7838134765625, 1482.6107177734375, 1152.5521240234375, 845.20703125, 780.3057250976562, 683.3525390625, 516.6704711914062, 508.2482604980469, 478.72119140625, 475.5126953125, 459.8760986328125, 451.6487121582031, 411.59368896484375, 409.01605224609375, 381.2850341796875, 356.58551025390625, 336.3620910644531, 327.0652770996094, 326.7498474121094, 318.0253601074219, 316.0333251953125, 314.05352783203125, 314.24884033203125, 512.18505859375, 5924.63916015625, 4035.303466796875, 3297.84375, 2907.654052734375, 2818.000244140625, 2295.593017578125, 2283.968505859375, 2042.6417236328125, 1984.3255615234375, 1838.832763671875, 1727.8614501953125, 1604.3614501953125, 1221.6956787109375, 1148.032958984375, 1096.9544677734375, 1033.1136474609375, 957.7064819335938, 877.1735229492188, 858.9619140625, 844.1090698242188, 826.6734008789062, 791.2457275390625, 741.3222045898438, 734.9998168945312, 721.308349609375, 715.7942504882812, 705.9618530273438, 699.6050415039062, 668.6248168945312, 659.9400024414062, 4408.5478515625, 3282.674072265625, 3083.55224609375, 1869.9208984375, 1810.451416015625, 1782.035888671875, 1675.9617919921875, 1506.4144287109375, 1435.6761474609375, 1425.76904296875, 1141.3568115234375, 1111.1827392578125, 1054.2205810546875, 1047.413330078125, 988.7816772460938, 927.62158203125, 916.708740234375, 896.6016235351562, 867.1712646484375, 811.152587890625, 798.8423461914062, 793.3412475585938, 752.5369262695312, 739.5990600585938, 740.2704467773438, 710.1215209960938, 700.9783325195312, 698.028076171875, 655.5502319335938, 611.2537231445312, 1051.9373779296875, 3526.279541015625, 3131.63330078125, 2665.280029296875, 2286.705078125, 2104.993408203125, 1801.240478515625, 1733.507080078125, 1672.048583984375, 1603.4217529296875, 1503.4649658203125, 1346.467041015625, 1333.8597412109375, 1305.590576171875, 1208.8756103515625, 1199.76318359375, 1148.071044921875, 1137.5146484375, 1117.6181640625, 1115.1295166015625, 1035.5355224609375, 836.8851318359375, 784.8619995117188, 776.7075805664062, 767.3511352539062, 721.49609375, 696.2041625976562, 693.41796875, 676.1077270507812, 632.2476196289062, 622.7283935546875, 2297.471923828125, 2069.591796875, 1876.8902587890625, 1712.8623046875, 1689.0692138671875, 1532.8521728515625, 1522.6607666015625, 1456.6849365234375, 1321.931640625, 1316.3148193359375, 1316.5301513671875, 1256.6385498046875, 1220.6778564453125, 1144.6690673828125, 1073.36962890625, 938.0469360351562, 918.5964965820312, 907.3470458984375, 881.3512573242188, 876.2689208984375, 872.5767822265625, 869.4819946289062, 801.8263549804688, 754.6476440429688, 674.3370361328125, 642.4177856445312, 639.8497924804688, 586.3423461914062, 569.50244140625, 556.5477294921875, 973.3760986328125, 3893.9033203125, 3686.024169921875, 3339.18408203125, 2901.224609375, 2773.56640625, 1478.4847412109375, 1347.7593994140625, 865.38525390625, 785.4956665039062, 751.572021484375, 695.4397583007812, 674.4784545898438, 649.1043090820312, 640.6767578125, 616.0496215820312, 585.020751953125, 570.4093627929688, 538.894775390625, 534.1467895507812, 532.450439453125, 505.2851257324219, 498.2839660644531, 456.21429443359375, 451.88494873046875, 447.45428466796875, 442.3765563964844, 432.32391357421875, 424.34515380859375, 424.88812255859375, 420.2545166015625, 3754.30029296875, 2567.15673828125, 2407.342041015625, 2074.298828125, 1419.23681640625, 1314.1558837890625, 1207.9173583984375, 1083.6436767578125, 1080.9918212890625, 1046.005859375, 1042.203369140625, 1015.8660278320312, 918.4638061523438, 826.279052734375, 774.8460693359375, 771.6159057617188, 742.15185546875, 658.6978149414062, 635.7310180664062, 634.3986206054688, 598.3023681640625, 568.6962890625, 553.970703125, 553.4501342773438, 548.8826904296875, 513.5869140625, 492.9814147949219, 488.373779296875, 445.3504333496094, 414.09130859375, 438.643798828125, 4326.4189453125, 2541.89453125, 2064.67431640625, 2009.72119140625, 1645.0377197265625, 1640.195556640625, 1542.183349609375, 1449.7969970703125, 1383.823486328125, 1309.2677001953125, 877.6976928710938, 844.3982543945312, 800.7095336914062, 770.2850952148438, 632.7528076171875, 595.0884399414062, 591.7425537109375, 571.9912109375, 565.4368286132812, 562.2149047851562, 552.8442993164062, 547.7488403320312, 541.2637329101562, 533.9906616210938, 503.8144226074219, 486.2556457519531, 472.0517272949219, 469.8970947265625, 456.5100402832031, 440.0125732421875, 4058.10009765625, 2837.411376953125, 2660.22265625, 2394.0927734375, 1642.4437255859375, 1536.3192138671875, 1347.314453125, 1007.186279296875, 871.5789794921875, 825.3651123046875, 745.6259155273438, 737.5966186523438, 711.0401000976562, 692.9671020507812, 668.0011596679688, 630.0131225585938, 613.6969604492188, 615.2409057617188, 539.3359375, 534.73291015625, 516.9745483398438, 516.2657470703125, 511.7660217285156, 483.1676330566406, 455.3144226074219, 429.8773193359375, 416.12762451171875, 411.19085693359375, 388.7721252441406, 384.8550720214844, 2663.649169921875, 2009.3546142578125, 1619.5946044921875, 1399.8302001953125, 1211.918701171875, 1172.3460693359375, 963.9873046875, 887.69189453125, 880.8968505859375, 874.6605834960938, 788.3560180664062, 756.3602905273438, 748.91552734375, 715.0119018554688, 701.9111938476562, 682.9044799804688, 647.8995361328125, 633.9014892578125, 625.05517578125, 611.8936767578125, 601.4348754882812, 586.549072265625, 566.21435546875, 563.7882080078125, 526.0847778320312, 518.8753051757812, 510.8265686035156, 506.1261901855469, 494.9737854003906, 479.22589111328125, 2279.29150390625, 2139.5712890625, 1886.7071533203125, 1735.95458984375, 1422.9700927734375, 1408.45849609375, 1381.320068359375, 1098.3240966796875, 1093.822998046875, 1000.98486328125, 913.3645629882812, 877.4835815429688, 797.0193481445312, 793.6676635742188, 776.4506225585938, 699.5625, 672.50439453125, 652.5216064453125, 629.4468383789062, 597.77392578125, 571.9661254882812, 564.2988891601562, 527.0425415039062, 524.7904052734375, 511.2698669433594, 508.1899108886719, 504.71612548828125, 498.9132080078125, 486.6446228027344, 466.7452087402344, 468.25714111328125, 3975.865966796875, 2284.901123046875, 1834.802978515625, 1579.515625, 1328.4912109375, 1291.3831787109375, 1088.2109375, 1034.9122314453125, 1030.04052734375, 1019.4559936523438, 930.5132446289062, 903.90771484375, 888.7235717773438, 831.1129150390625, 833.361083984375, 793.3287353515625, 787.290771484375, 744.2327880859375, 698.4095458984375, 698.253173828125, 683.6808471679688, 651.1011962890625, 650.1455688476562, 600.4400024414062, 561.6363525390625, 555.1649780273438, 544.270751953125, 541.3078002929688, 533.0479125976562, 508.10321044921875, 508.6253662109375, 1315.177734375, 1257.7852783203125, 1135.9954833984375, 1110.2156982421875, 1060.2509765625, 953.760009765625, 885.3065795898438, 860.4351196289062, 787.1693115234375, 773.28271484375, 746.09619140625, 739.2036743164062, 728.1215209960938, 700.31884765625, 697.4212036132812, 682.068359375, 651.5750122070312, 650.4381713867188, 622.844482421875, 606.807373046875, 596.7296752929688, 592.1924438476562, 582.4729614257812, 550.0213012695312, 550.8271484375, 522.3319091796875, 507.5544738769531, 493.2299499511719, 491.2772521972656, 488.4063720703125, 3029.8447265625, 2515.095458984375, 1611.000732421875, 1581.2752685546875, 874.7481689453125, 814.5612182617188, 716.946044921875, 698.3087768554688, 688.6836547851562, 674.1808471679688, 617.7534790039062, 602.1807861328125, 512.7512817382812, 504.0673828125, 500.240966796875, 482.6962890625, 479.8188171386719, 466.2541198730469, 454.4721374511719, 452.9281311035156, 439.0732116699219, 431.1683349609375, 426.4892578125, 416.28326416015625, 413.3766174316406, 398.99993896484375, 389.8988037109375, 386.56036376953125, 385.6106872558594, 374.4176025390625], \"Term\": [\"trump\", \"clinton\", \"donald_trump\", \"hillary_clinton\", \"that\", \"hillary\", \"this\", \"obama\", \"with\", \"your\", \"about\", \"just\", \"will\", \"they\", \"what\", \"have\", \"like\", \"when\", \"from\", \"more\", \"people\", \"realdonaldtrump\", \"america\", \"make\", \"donald\", \"news\", \"time\", \"tcot\", \"american\", \"vote\", \"that\", \"this\", \"with\", \"will\", \"they\", \"what\", \"have\", \"from\", \"people\", \"want\", \"after\", \"right\", \"over\", \"think\", \"hillaryclinton\", \"them\", \"should\", \"going\", \"today\", \"being\", \"down\", \"tell\", \"still\", \"could\", \"where\", \"ever\", \"nothing\", \"thank\", \"while\", \"leader\", \"black\", \"world\", \"trump\", \"donald_trump\", \"obama\", \"donald\", \"politics\", \"president\", \"nine_oh\", \"child\", \"michelle_obama\", \"president_obama\", \"cruz\", \"true\", \"team\", \"matter\", \"barack_obama\", \"single\", \"anything\", \"policy\", \"ruinadinnerinonephrase\", \"found\", \"veteran\", \"rape\", \"zaibatsunews\", \"job\", \"kaine\", \"retweet\", \"michelle\", \"giselleevns\", \"realdonaldtrump_thank\", \"secret\", \"about\", \"know\", \"thing\", \"police\", \"jenn_abrams\", \"believe\", \"everyone\", \"play\", \"story\", \"this_country\", \"doing\", \"know_what\", \"everything\", \"police_officer\", \"wrong\", \"officer\", \"talking_about\", \"good_morning\", \"illegal\", \"would_have\", \"playing\", \"yourself\", \"1063atl_playing\", \"court\", \"sport\", \"talking\", \"movie\", \"happened\", \"supreme_court\", \"safe\", \"just\", \"realdonaldtrump\", \"make\", \"need\", \"medium\", \"stop\", \"some\", \"much\", \"said\", \"breaking\", \"please\", \"made\", \"another\", \"word\", \"voting\", \"also\", \"candidate\", \"mike_penny\", \"called\", \"penny\", \"blacklivesmatter\", \"press\", \"already\", \"stupid\", \"meet\", \"message\", \"save\", \"past\", \"flag\", \"mexico\", \"presidential\", \"your\", \"more\", \"would\", \"than\", \"life\", \"blicqer\", \"more_than\", \"best\", \"speech\", \"join\", \"fake_news\", \"plan\", \"find\", \"fake\", \"part\", \"betteralternativetodebates\", \"rejecteddebatetopics\", \"obamacare\", \"official\", \"hashtag_game\", \"minute\", \"idea\", \"york\", \"mitchellvii\", \"protester\", \"secondhandgifts\", \"food\", \"hashtag\", \"trump_tower\", \"elected\", \"like\", \"american\", \"love\", \"maga\", \"good\", \"muslim\", \"look\", \"look_like\", \"every\", \"friend\", \"other\", \"twitter\", \"terrorist\", \"very\", \"something\", \"night\", \"day\", \"getting\", \"freedom\", \"anyone\", \"fire\", \"american_people\", \"african_american\", \"actually\", \"last_night\", \"christian\", \"military\", \"delo_taylor\", \"crime\", \"behind\", \"clinton\", \"hillary_clinton\", \"hillary\", \"campaign\", \"real\", \"poll\", \"republican\", \"hate\", \"clinton_campaign\", \"start\", \"person\", \"history\", \"beat\", \"lindasuhler\", \"chelsea\", \"foreign_policy\", \"song\", \"close\", \"rt_com\", \"thehill\", \"foreign\", \"speak\", \"independent\", \"abortion\", \"campaign_manager\", \"sheriff\", \"knew\", \"law\", \"trumppence16_maga\", \"2016electionin3words\", \"benghazi\", \"when\", \"woman\", \"white\", \"take\", \"white_house\", \"first\", \"because\", \"even\", \"house\", \"work\", \"isi\", \"always\", \"game\", \"remember\", \"mean\", \"russian\", \"hope\", \"name\", \"thought\", \"dead\", \"christmas\", \"putin\", \"case\", \"patriot\", \"political\", \"remember_when\", \"nyc_everyday\", \"finally\", \"hell\", \"place\", \"time\", \"only\", \"election\", \"clinton_foundation\", \"were\", \"help\", \"party\", \"million\", \"refugee\", \"last\", \"away\", \"feel\", \"islamkills\", \"music\", \"fight\", \"sure\", \"little\", \"mike_pence\", \"foundation\", \"security\", \"hand\", \"national_security\", \"fuck\", \"pamela_moore13\", \"make_sure\", \"enough\", \"used\", \"syrian_refugee\", \"away_from\", \"protect\", \"national\", \"their\", \"never\", \"back\", \"these\", \"really\", \"democrat\", \"will_never\", \"voter\", \"liberal\", \"talk_about\", \"ten_gop\", \"thanks\", \"talk\", \"rally\", \"anti_trump\", \"anti\", \"bernie_sander\", \"report\", \"conservative\", \"care\", \"issue\", \"trump_rally\", \"bernie\", \"latest\", \"lost\", \"sander\", \"order\", \"voter_fraud\", \"teaparty\", \"survivalguidetothanksgiving\", \"call\", \"conservatexian_news\", \"post\", \"keep\", \"most\", \"then\", \"free\", \"live\", \"tweet\", \"conservatexian_post\", \"trumpforpresident\", \"conservatexian\", \"read\", \"same\", \"without\", \"which\", \"trying\", \"american_thinker\", \"islam\", \"sign\", \"question\", \"morning\", \"full\", \"state_dept\", \"record\", \"between\", \"what_happens\", \"break\", \"this_morning\", \"action\", \"news\", \"vote\", \"there\", \"say\", \"midnight\", \"show\", \"doesn\", \"didn\", \"social_medium\", \"threat\", \"baby\", \"paid\", \"around\", \"gave\", \"john\", \"through\", \"social\", \"lying\", \"wife\", \"megyn_kelly\", \"idrunforpresidentif\", \"lose\", \"senate\", \"hold\", \"danageezus\", \"number\", \"dogsongs_midnight\", \"pick\", \"solely_toya\", \"idrunforpresidentif_could\", \"second_amendment\", \"year\", \"bill_clinton\", \"been\", \"bill\", \"have_been\", \"change\", \"wikileaks\", \"home\", \"week\", \"wakeupamerica\", \"girl\", \"this_week\", \"dems\", \"stonewall_77\", \"share\", \"open\", \"saying\", \"mind\", \"north_carolina\", \"comment\", \"shot\", \"convention\", \"folk\", \"control\", \"constitution\", \"member\", \"terrorism\", \"climate_change\", \"guess\", \"birther\", \"north\", \"america\", \"watch\", \"against\", \"give\", \"before\", \"must\", \"come\", \"family\", \"next\", \"happy\", \"death\", \"make_america\", \"shit\", \"claim\", \"using\", \"rock\", \"obama_admin\", \"second\", \"miss\", \"victim\", \"paul_ryan\", \"line\", \"special\", \"paul\", \"texas\", \"working\", \"college\", \"worst\", \"others\", \"conservative_vw\", \"tcot\", \"video\", \"pjnet\", \"country\", \"tcot_ccot\", \"ccot\", \"tcot_pjnet\", \"under\", \"wall\", \"during\", \"each_other\", \"power\", \"alternativeacronyminterpretations\", \"cruzcrew_pjnet\", \"heart\", \"star\", \"ready\", \"trumptrain\", \"former\", \"iran\", \"syria\", \"chance\", \"bless\", \"lied_about\", \"prison\", \"pjnet_tcot\", \"nominee\", \"evidence\", \"tcot_lnyhbt\", \"breitbartnews\", \"state\", \"email\", \"attack\", \"many\", \"face\", \"clinton_email\", \"reason\", \"follow\", \"united_state\", \"race\", \"protest\", \"nation\", \"public\", \"crookedhillary\", \"since\", \"terrorist_attack\", \"george_soros\", \"christmasaftermath\", \"israel\", \"reallifemagicspells\", \"group\", \"go\", \"george\", \"democratic\", \"justice\", \"united\", \"dear\", \"democratic_party\", \"chicago\", \"step\", \"into\", \"again\", \"great\", \"potus\", \"russia\", \"drudge_report\", \"doe\", \"government\", \"get\", \"stand\", \"health\", \"done\", \"turn\", \"great_again\", \"chris_1791\", \"world_news\", \"book\", \"racism\", \"move\", \"crowd\", \"2016in4words\", \"investigation\", \"comey\", \"makemehateyouinonephrase\", \"army\", \"washington\", \"listen\", \"stand_with\", \"caught\", \"network_citizen\", \"together\", \"news\", \"debate\", \"support\", \"money\", \"left\", \"racist\", \"trump2016\", \"deal\", \"check\", \"someone\", \"city\", \"deal_with\", \"trumppence16\", \"gonna\", \"fact\", \"stay\", \"kill\", \"coming\", \"makeamericagreatagain\", \"list\", \"border\", \"fishtv_midnight\", \"todolistbeforechristmas\", \"shooting\", \"fear\", \"oscarhasnocolor_oscar\", \"beforeitsnews\", \"meeting_with\", \"ohio\", \"always_trump\", \"cleveland_politics\", \"better\", \"truth\", \"well\", \"merkelmussbleiben\", \"neverhillary\", \"school\", \"foxnews\", \"merkel\", \"better_than\", \"office\", \"bring\", \"bomb\", \"giftideasforpoliticians\", \"high\", \"problem\", \"thingsmoretrustedthanhillary\", \"melania_trump\", \"head\", \"student\", \"bush\", \"become\", \"high_school\", \"water\", \"violence\", \"im_srishabh21\", \"blame\", \"economy\", \"citizen\", \"march\", \"win\", \"here\", \"trump_supporter\", \"supporter\", \"those\", \"lie\", \"photo\", \"killed\", \"told\", \"until\", \"wait\", \"thingsyoucantignore\", \"black_woman\", \"rt_america\", \"mustbebanned\", \"cop\", \"ihavearighttoknow\", \"welcome\", \"illegal_immigrant\", \"spread\", \"jail\", \"i_am_not_e\", \"sorry\", \"black_voter\", \"corrupt\", \"general\", \"valentinesdayin3words\", \"under_obama\", \"deplorable\", \"fund\", \"trumpbecause\"], \"Total\": [31942.0, 13136.0, 13898.0, 11684.0, 15854.0, 11355.0, 14905.0, 10650.0, 13085.0, 9057.0, 7751.0, 7166.0, 9405.0, 8848.0, 8563.0, 8548.0, 6159.0, 5924.0, 7836.0, 5710.0, 7641.0, 5486.0, 4326.0, 4759.0, 5026.0, 4949.0, 4408.0, 4058.0, 4258.0, 3894.0, 15854.994140625, 14905.48828125, 13085.7939453125, 9405.78125, 8848.9326171875, 8563.4736328125, 8548.4384765625, 7836.451171875, 7641.1201171875, 4240.68359375, 3806.241943359375, 3579.7568359375, 3516.584228515625, 3413.338623046875, 3238.710693359375, 3061.237548828125, 2750.100830078125, 2499.7509765625, 2445.38232421875, 2343.138916015625, 1947.6826171875, 1882.4630126953125, 1829.74658203125, 1688.5572509765625, 1632.443603515625, 1604.9044189453125, 1392.8580322265625, 1304.7630615234375, 1215.78515625, 1163.895751953125, 4310.99462890625, 2641.0908203125, 31942.77734375, 13898.6533203125, 10650.1962890625, 5026.25634765625, 4367.3193359375, 4056.705810546875, 1806.2734375, 1346.3553466796875, 1216.06787109375, 1199.15576171875, 1078.939453125, 1053.8385009765625, 967.3386840820312, 896.1138916015625, 810.0303955078125, 771.7802124023438, 769.5266723632812, 747.8314208984375, 649.6295166015625, 632.2271118164062, 611.4192504882812, 562.527587890625, 538.2764892578125, 537.8728637695312, 524.1022338867188, 508.2847595214844, 500.698486328125, 481.39935302734375, 476.6905517578125, 468.3081970214844, 7751.33935546875, 3552.19873046875, 2564.698974609375, 2013.962890625, 1632.20947265625, 1430.9820556640625, 1297.6910400390625, 1149.940185546875, 1064.60009765625, 1050.385009765625, 1043.757080078125, 970.894775390625, 913.2725830078125, 894.7560424804688, 893.2525634765625, 845.2001953125, 838.069580078125, 811.9512329101562, 732.0364379882812, 720.1587524414062, 719.44970703125, 697.2291259765625, 635.7423095703125, 613.9227294921875, 593.837158203125, 593.646240234375, 564.1174926757812, 561.3864135742188, 557.5810546875, 554.2546997070312, 7166.361328125, 5486.7529296875, 4759.33642578125, 3572.26953125, 3105.586181640625, 2453.250244140625, 2051.904296875, 2022.6712646484375, 1999.5704345703125, 1634.535888671875, 1513.863037109375, 1482.831787109375, 1479.285888671875, 1267.4034423828125, 1071.009765625, 1010.6083984375, 986.6719360351562, 979.809326171875, 949.8121337890625, 894.5101928710938, 851.8931274414062, 815.7879028320312, 794.4099731445312, 743.0906982421875, 684.9921875, 623.7797241210938, 619.00537109375, 597.6915893554688, 593.9964599609375, 589.7645263671875, 925.0379638671875, 9057.748046875, 5710.32958984375, 3449.384033203125, 2977.789794921875, 2882.29931640625, 2384.004638671875, 2028.76123046875, 1682.691162109375, 1457.5391845703125, 1174.6363525390625, 1142.586669921875, 1109.537109375, 1078.92822265625, 872.1433715820312, 838.3417358398438, 708.2362060546875, 694.4314575195312, 691.0284423828125, 685.5982666015625, 577.345703125, 562.80859375, 556.7068481445312, 538.0344848632812, 526.5025024414062, 524.6497802734375, 491.1596984863281, 487.4720764160156, 467.2122497558594, 467.7819519042969, 455.0716857910156, 6159.18603515625, 4258.92724609375, 3577.201904296875, 3179.520751953125, 2995.685302734375, 2487.405517578125, 2484.16259765625, 2098.65380859375, 1906.8973388671875, 1541.906494140625, 1519.7509765625, 1508.4788818359375, 1463.9725341796875, 1345.6322021484375, 1087.8299560546875, 1014.7671508789062, 986.769775390625, 908.8198852539062, 892.9921264648438, 887.0396728515625, 869.4805297851562, 837.8938598632812, 835.0245971679688, 784.821044921875, 764.4769897460938, 758.1438598632812, 724.8698120117188, 696.7266845703125, 616.8226318359375, 613.4829711914062, 13136.0400390625, 11684.234375, 11355.171875, 2657.26708984375, 2070.603759765625, 1719.8125, 1615.228759765625, 1491.944580078125, 1482.771484375, 1152.7125244140625, 845.3673095703125, 780.4660034179688, 683.51220703125, 516.8297729492188, 508.40728759765625, 478.88006591796875, 475.67205810546875, 460.0352783203125, 451.8085632324219, 411.7529602050781, 409.17535400390625, 381.4442138671875, 356.74468994140625, 336.5209655761719, 327.2240295410156, 326.90863037109375, 318.18426513671875, 316.1921691894531, 314.2120056152344, 314.4078674316406, 563.3477783203125, 5924.80126953125, 4035.46533203125, 3298.005126953125, 2907.815185546875, 2818.1611328125, 2295.75390625, 2284.12939453125, 2042.802490234375, 1984.486328125, 1838.9935302734375, 1728.022216796875, 1604.52197265625, 1221.855712890625, 1148.1927490234375, 1097.114501953125, 1033.2734375, 957.8665771484375, 877.333251953125, 859.121826171875, 844.2685546875, 826.8330688476562, 791.405029296875, 741.4816284179688, 735.1591186523438, 721.4680786132812, 715.9532470703125, 706.1209716796875, 699.76416015625, 668.7841186523438, 660.099365234375, 4408.7099609375, 3282.83544921875, 3083.714111328125, 1870.0819091796875, 1810.6124267578125, 1782.1966552734375, 1676.12255859375, 1506.5751953125, 1435.836669921875, 1425.9298095703125, 1141.5167236328125, 1111.344970703125, 1054.3804931640625, 1047.5732421875, 988.94189453125, 927.7816162109375, 916.8687133789062, 896.76123046875, 867.331298828125, 811.3123779296875, 799.001953125, 793.5009765625, 752.6962890625, 739.7579956054688, 740.4297485351562, 710.2814331054688, 701.137939453125, 698.1875, 655.7095336914062, 611.4130249023438, 1137.0555419921875, 3526.441650390625, 3131.794921875, 2665.44140625, 2286.866455078125, 2105.15478515625, 1801.401611328125, 1733.667724609375, 1672.209716796875, 1603.5826416015625, 1503.625244140625, 1346.6280517578125, 1334.02001953125, 1305.7509765625, 1209.0360107421875, 1199.92333984375, 1148.2313232421875, 1137.6746826171875, 1117.778564453125, 1115.28955078125, 1035.69580078125, 837.0452270507812, 785.0222778320312, 776.8672485351562, 767.5109252929688, 721.6559448242188, 696.3635864257812, 693.5779418945312, 676.2672729492188, 632.4071655273438, 622.887939453125, 2297.633056640625, 2069.7529296875, 1877.05126953125, 1713.023193359375, 1689.2301025390625, 1533.0130615234375, 1522.821533203125, 1456.8458251953125, 1322.092041015625, 1316.4749755859375, 1316.6903076171875, 1256.7987060546875, 1220.8380126953125, 1144.8292236328125, 1073.529541015625, 938.2070922851562, 918.7566528320312, 907.5067749023438, 881.5111694335938, 876.4290161132812, 872.7369384765625, 869.6416015625, 801.9859619140625, 754.8068237304688, 674.4965209960938, 642.5770874023438, 640.0089721679688, 586.5016479492188, 569.6615600585938, 556.7069702148438, 4949.568359375, 3894.0654296875, 3686.186279296875, 3339.345947265625, 2901.385986328125, 2773.727783203125, 1478.6456298828125, 1347.9200439453125, 865.5446166992188, 785.655029296875, 751.7315673828125, 695.5990600585938, 674.6381225585938, 649.2636108398438, 640.83642578125, 616.2091674804688, 585.1799926757812, 570.5687255859375, 539.053955078125, 534.3059692382812, 532.6097412109375, 505.44451904296875, 498.4432678222656, 456.3735046386719, 452.0438537597656, 447.6134033203125, 442.5352783203125, 432.48297119140625, 424.5032043457031, 425.0469665527344, 420.41278076171875, 3754.46240234375, 2567.318115234375, 2407.503173828125, 2074.4599609375, 1419.3973388671875, 1314.316162109375, 1208.077880859375, 1083.8035888671875, 1081.1519775390625, 1046.166015625, 1042.363525390625, 1016.025634765625, 918.623779296875, 826.4382934570312, 775.00537109375, 771.7755126953125, 742.3116455078125, 658.857177734375, 635.89013671875, 634.5579223632812, 598.4618530273438, 568.8555297851562, 554.1298828125, 553.6098022460938, 549.0418701171875, 513.7460327148438, 493.14056396484375, 488.5330505371094, 445.5093994140625, 414.24993896484375, 506.95782470703125, 4326.58056640625, 2542.055419921875, 2064.835205078125, 2009.8819580078125, 1645.1983642578125, 1640.356201171875, 1542.3441162109375, 1449.9576416015625, 1383.983642578125, 1309.427734375, 877.8575439453125, 844.5580444335938, 800.869384765625, 770.4449462890625, 632.9119873046875, 595.247314453125, 591.9014282226562, 572.150390625, 565.5958251953125, 562.3740844726562, 553.0033569335938, 547.9081420898438, 541.4226684570312, 534.1495971679688, 503.9736328125, 486.4148864746094, 472.2107849121094, 470.0559997558594, 456.6690673828125, 440.1714172363281, 4058.2626953125, 2837.5732421875, 2660.384521484375, 2394.25439453125, 1642.6051025390625, 1536.4805908203125, 1347.4755859375, 1007.3469848632812, 871.7391357421875, 825.525634765625, 745.7857055664062, 737.757080078125, 711.2000122070312, 693.1272583007812, 668.1611328125, 630.1731567382812, 613.85693359375, 615.4012451171875, 539.495849609375, 534.892822265625, 517.1342163085938, 516.4255981445312, 511.9253234863281, 483.32635498046875, 455.47412109375, 430.0370788574219, 416.2867126464844, 411.35040283203125, 388.9306945800781, 385.0145263671875, 2663.810791015625, 2009.5157470703125, 1619.7554931640625, 1399.990966796875, 1212.078857421875, 1172.506103515625, 964.1473999023438, 887.8516235351562, 881.0570068359375, 874.8206787109375, 788.515869140625, 756.5199584960938, 749.0751342773438, 715.1714477539062, 702.0712280273438, 683.0634155273438, 648.0588989257812, 634.0610961914062, 625.2147827148438, 612.05322265625, 601.5945434570312, 586.7086181640625, 566.3737182617188, 563.9476318359375, 526.2442016601562, 519.0347290039062, 510.9858093261719, 506.285400390625, 495.13336181640625, 479.38507080078125, 2279.45263671875, 2139.732421875, 1886.868408203125, 1736.1156005859375, 1423.13037109375, 1408.6192626953125, 1381.4808349609375, 1098.484130859375, 1093.9830322265625, 1001.1450805664062, 913.5245361328125, 877.6436157226562, 797.1791381835938, 793.827392578125, 776.6103515625, 699.7222900390625, 672.6640625, 652.6810302734375, 629.606201171875, 597.9332275390625, 572.1256103515625, 564.4581298828125, 527.2015380859375, 524.9498291015625, 511.4291076660156, 508.34930419921875, 504.8756408691406, 499.0721740722656, 486.8038330078125, 466.9032897949219, 468.4163513183594, 4949.568359375, 2285.0625, 1834.96435546875, 1579.6766357421875, 1328.65185546875, 1291.5439453125, 1088.371337890625, 1035.072509765625, 1030.200927734375, 1019.6166381835938, 930.6736450195312, 904.0678100585938, 888.8837890625, 831.2727661132812, 833.5216064453125, 793.48876953125, 787.4509887695312, 744.3928833007812, 698.5694580078125, 698.4129638671875, 683.840576171875, 651.2606811523438, 650.305419921875, 600.5997314453125, 561.7957763671875, 555.3243408203125, 544.4301147460938, 541.4671020507812, 533.2076416015625, 508.2619323730469, 508.78472900390625, 1315.3385009765625, 1257.9459228515625, 1136.1561279296875, 1110.376220703125, 1060.4114990234375, 953.92041015625, 885.4667358398438, 860.595458984375, 787.3292846679688, 773.442626953125, 746.2557983398438, 739.3633422851562, 728.2811889648438, 700.4788208007812, 697.5814208984375, 682.22802734375, 651.7347412109375, 650.5980834960938, 623.0042114257812, 606.967041015625, 596.8894653320312, 592.3519287109375, 582.6326293945312, 550.1808471679688, 550.9868774414062, 522.491455078125, 507.7135009765625, 493.3894348144531, 491.4366455078125, 488.5658264160156, 3030.006591796875, 2515.2568359375, 1611.16162109375, 1581.43603515625, 874.9080200195312, 814.72119140625, 717.1060180664062, 698.4684448242188, 688.843505859375, 674.3406372070312, 617.9132690429688, 602.3404541015625, 512.91064453125, 504.2265625, 500.4001159667969, 482.8557434082031, 479.97808837890625, 466.4131164550781, 454.6312255859375, 453.0871276855469, 439.2325134277344, 431.3276062011719, 426.6484375, 416.4425964355469, 413.5357360839844, 399.1590576171875, 390.0574645996094, 386.7192077636719, 385.7693786621094, 374.5762939453125], \"loglift\": [30.0, 29.0, 28.0, 27.0, 26.0, 25.0, 24.0, 23.0, 22.0, 21.0, 20.0, 19.0, 18.0, 17.0, 16.0, 15.0, 14.0, 13.0, 12.0, 11.0, 10.0, 9.0, 8.0, 7.0, 6.0, 5.0, 4.0, 3.0, 2.0, 1.0, 2.178299903869629, 2.178299903869629, 2.178299903869629, 2.178299903869629, 2.178299903869629, 2.178299903869629, 2.178299903869629, 2.178299903869629, 2.178299903869629, 2.178299903869629, 2.178299903869629, 2.178299903869629, 2.178299903869629, 2.178299903869629, 2.178299903869629, 2.178299903869629, 2.178299903869629, 2.178299903869629, 2.178299903869629, 2.178299903869629, 2.1782000064849854, 2.1782000064849854, 2.1782000064849854, 2.1782000064849854, 2.1782000064849854, 2.1782000064849854, 2.1782000064849854, 2.1782000064849854, 2.1782000064849854, 2.1782000064849854, 2.1261000633239746, 2.1250998973846436, 2.698199987411499, 2.698199987411499, 2.698199987411499, 2.698199987411499, 2.698199987411499, 2.698199987411499, 2.6981000900268555, 2.6981000900268555, 2.6981000900268555, 2.6981000900268555, 2.697999954223633, 2.697999954223633, 2.697999954223633, 2.697999954223633, 2.697999954223633, 2.697999954223633, 2.697999954223633, 2.697999954223633, 2.6979000568389893, 2.6979000568389893, 2.6979000568389893, 2.6979000568389893, 2.6979000568389893, 2.6979000568389893, 2.6979000568389893, 2.6979000568389893, 2.6979000568389893, 2.6979000568389893, 2.6979000568389893, 2.6979000568389893, 2.86680006980896, 2.86680006980896, 2.8666999340057373, 2.8666999340057373, 2.8666999340057373, 2.8666999340057373, 2.8666999340057373, 2.8666999340057373, 2.8666999340057373, 2.8666999340057373, 2.8666000366210938, 2.8666000366210938, 2.8666000366210938, 2.8666000366210938, 2.8666000366210938, 2.8666000366210938, 2.8666000366210938, 2.8666000366210938, 2.8666000366210938, 2.8666000366210938, 2.8666000366210938, 2.8666000366210938, 2.8666000366210938, 2.866499900817871, 2.866499900817871, 2.866499900817871, 2.866499900817871, 2.866499900817871, 2.866499900817871, 2.866499900817871, 2.8761000633239746, 2.8761000633239746, 2.8761000633239746, 2.8761000633239746, 2.8761000633239746, 2.8761000633239746, 2.875999927520752, 2.875999927520752, 2.875999927520752, 2.875999927520752, 2.875999927520752, 2.875999927520752, 2.875999927520752, 2.875999927520752, 2.875999927520752, 2.875999927520752, 2.875999927520752, 2.875999927520752, 2.875999927520752, 2.8759000301361084, 2.8759000301361084, 2.8759000301361084, 2.8759000301361084, 2.8759000301361084, 2.8759000301361084, 2.8759000301361084, 2.8759000301361084, 2.8759000301361084, 2.8759000301361084, 2.8759000301361084, 2.6435999870300293, 2.9579999446868896, 2.9579999446868896, 2.9579999446868896, 2.9579999446868896, 2.9579999446868896, 2.9579999446868896, 2.9579999446868896, 2.9579999446868896, 2.957900047302246, 2.957900047302246, 2.957900047302246, 2.957900047302246, 2.957900047302246, 2.957900047302246, 2.957900047302246, 2.9577999114990234, 2.9577999114990234, 2.9577999114990234, 2.9577999114990234, 2.9577999114990234, 2.9577999114990234, 2.9577999114990234, 2.9577999114990234, 2.9577999114990234, 2.9577999114990234, 2.95770001411438, 2.95770001411438, 2.95770001411438, 2.95770001411438, 2.95770001411438, 2.9716999530792236, 2.9716999530792236, 2.9716999530792236, 2.9716999530792236, 2.9716999530792236, 2.9716999530792236, 2.9716999530792236, 2.9716999530792236, 2.9716999530792236, 2.97160005569458, 2.97160005569458, 2.97160005569458, 2.97160005569458, 2.97160005569458, 2.97160005569458, 2.97160005569458, 2.97160005569458, 2.97160005569458, 2.97160005569458, 2.97160005569458, 2.97160005569458, 2.9714999198913574, 2.9714999198913574, 2.9714999198913574, 2.9714999198913574, 2.9714999198913574, 2.9714999198913574, 2.9714999198913574, 2.9714999198913574, 2.9714999198913574, 2.976599931716919, 2.976599931716919, 2.976599931716919, 2.976599931716919, 2.976599931716919, 2.9765000343322754, 2.9765000343322754, 2.9765000343322754, 2.9765000343322754, 2.9765000343322754, 2.9765000343322754, 2.9763998985290527, 2.9763998985290527, 2.976300001144409, 2.976300001144409, 2.976300001144409, 2.976300001144409, 2.976300001144409, 2.976300001144409, 2.976300001144409, 2.976300001144409, 2.9762001037597656, 2.9762001037597656, 2.9762001037597656, 2.9762001037597656, 2.9762001037597656, 2.976099967956543, 2.976099967956543, 2.976099967956543, 2.976099967956543, 2.8814001083374023, 2.9895999431610107, 2.989500045776367, 2.989500045776367, 2.989500045776367, 2.989500045776367, 2.989500045776367, 2.989500045776367, 2.989500045776367, 2.989500045776367, 2.989500045776367, 2.989500045776367, 2.989500045776367, 2.989500045776367, 2.9893999099731445, 2.9893999099731445, 2.9893999099731445, 2.9893999099731445, 2.9893999099731445, 2.9893999099731445, 2.9893999099731445, 2.9893999099731445, 2.9893999099731445, 2.9893999099731445, 2.9893999099731445, 2.9893999099731445, 2.9893999099731445, 2.9893999099731445, 2.9893999099731445, 2.989300012588501, 2.989300012588501, 3.0248000621795654, 3.0246999263763428, 3.0246999263763428, 3.0246999263763428, 3.0246999263763428, 3.0246999263763428, 3.0246999263763428, 3.0246999263763428, 3.0246999263763428, 3.0246999263763428, 3.0246999263763428, 3.024600028991699, 3.024600028991699, 3.024600028991699, 3.024600028991699, 3.024600028991699, 3.024600028991699, 3.024600028991699, 3.024600028991699, 3.024600028991699, 3.024600028991699, 3.024600028991699, 3.024600028991699, 3.024600028991699, 3.024600028991699, 3.024600028991699, 3.024600028991699, 3.024600028991699, 3.024600028991699, 3.0244998931884766, 2.947000026702881, 3.0597000122070312, 3.0597000122070312, 3.0596001148223877, 3.0596001148223877, 3.0596001148223877, 3.0596001148223877, 3.0596001148223877, 3.0596001148223877, 3.0596001148223877, 3.0596001148223877, 3.0596001148223877, 3.0596001148223877, 3.0596001148223877, 3.0596001148223877, 3.0596001148223877, 3.0596001148223877, 3.0596001148223877, 3.0596001148223877, 3.0596001148223877, 3.059499979019165, 3.059499979019165, 3.059499979019165, 3.059499979019165, 3.059499979019165, 3.059499979019165, 3.059499979019165, 3.059499979019165, 3.059499979019165, 3.059499979019165, 3.0594000816345215, 3.0931999683380127, 3.0931999683380127, 3.0931999683380127, 3.0931999683380127, 3.0931999683380127, 3.0931999683380127, 3.0931999683380127, 3.0931999683380127, 3.0931999683380127, 3.0931999683380127, 3.0931999683380127, 3.093100070953369, 3.093100070953369, 3.093100070953369, 3.093100070953369, 3.093100070953369, 3.093100070953369, 3.093100070953369, 3.093100070953369, 3.093100070953369, 3.093100070953369, 3.093100070953369, 3.093100070953369, 3.093100070953369, 3.0929999351501465, 3.0929999351501465, 3.0929999351501465, 3.0929999351501465, 3.0929999351501465, 3.0929999351501465, 1.4670000076293945, 3.1396000385284424, 3.1396000385284424, 3.1396000385284424, 3.1396000385284424, 3.1396000385284424, 3.1394999027252197, 3.1394999027252197, 3.1394999027252197, 3.139400005340576, 3.139400005340576, 3.139400005340576, 3.139400005340576, 3.139400005340576, 3.139400005340576, 3.139400005340576, 3.139400005340576, 3.139400005340576, 3.1393001079559326, 3.1393001079559326, 3.1393001079559326, 3.1393001079559326, 3.1393001079559326, 3.1393001079559326, 3.1393001079559326, 3.1393001079559326, 3.1393001079559326, 3.1393001079559326, 3.1393001079559326, 3.1393001079559326, 3.1393001079559326, 3.1561999320983887, 3.1561999320983887, 3.1561999320983887, 3.1561999320983887, 3.1561999320983887, 3.156100034713745, 3.156100034713745, 3.156100034713745, 3.156100034713745, 3.156100034713745, 3.156100034713745, 3.156100034713745, 3.156100034713745, 3.156100034713745, 3.156100034713745, 3.156100034713745, 3.156100034713745, 3.1559998989105225, 3.1559998989105225, 3.1559998989105225, 3.1559998989105225, 3.1559998989105225, 3.1559998989105225, 3.1559998989105225, 3.1559998989105225, 3.1559998989105225, 3.155900001525879, 3.155900001525879, 3.155900001525879, 3.155900001525879, 3.0114998817443848, 3.190000057220459, 3.190000057220459, 3.190000057220459, 3.190000057220459, 3.190000057220459, 3.190000057220459, 3.190000057220459, 3.190000057220459, 3.1898999214172363, 3.1898999214172363, 3.1898999214172363, 3.1898999214172363, 3.1898999214172363, 3.1898999214172363, 3.1898000240325928, 3.1898000240325928, 3.1898000240325928, 3.1898000240325928, 3.1898000240325928, 3.1898000240325928, 3.1898000240325928, 3.1898000240325928, 3.1898000240325928, 3.1898000240325928, 3.18969988822937, 3.18969988822937, 3.18969988822937, 3.18969988822937, 3.18969988822937, 3.18969988822937, 3.1967999935150146, 3.1967999935150146, 3.1967999935150146, 3.1967999935150146, 3.196700096130371, 3.196700096130371, 3.196700096130371, 3.196700096130371, 3.196700096130371, 3.196700096130371, 3.1965999603271484, 3.1965999603271484, 3.1965999603271484, 3.1965999603271484, 3.1965999603271484, 3.1965999603271484, 3.1965999603271484, 3.1965999603271484, 3.1965999603271484, 3.196500062942505, 3.196500062942505, 3.196500062942505, 3.196500062942505, 3.196500062942505, 3.196500062942505, 3.196500062942505, 3.196500062942505, 3.196500062942505, 3.1963999271392822, 3.1963999271392822, 3.212599992752075, 3.212599992752075, 3.212599992752075, 3.212599992752075, 3.2125000953674316, 3.2125000953674316, 3.2125000953674316, 3.2125000953674316, 3.2125000953674316, 3.2125000953674316, 3.2125000953674316, 3.2125000953674316, 3.2125000953674316, 3.212399959564209, 3.212399959564209, 3.212399959564209, 3.212399959564209, 3.212399959564209, 3.212399959564209, 3.212399959564209, 3.212399959564209, 3.212399959564209, 3.212399959564209, 3.212399959564209, 3.212399959564209, 3.212399959564209, 3.212399959564209, 3.212399959564209, 3.2123000621795654, 3.2123000621795654, 3.216200113296509, 3.216200113296509, 3.216200113296509, 3.216200113296509, 3.216099977493286, 3.216099977493286, 3.216099977493286, 3.216099977493286, 3.216099977493286, 3.216099977493286, 3.216099977493286, 3.216099977493286, 3.2160000801086426, 3.2160000801086426, 3.2160000801086426, 3.2160000801086426, 3.2160000801086426, 3.2160000801086426, 3.2160000801086426, 3.2160000801086426, 3.2160000801086426, 3.2160000801086426, 3.21589994430542, 3.21589994430542, 3.21589994430542, 3.21589994430542, 3.21589994430542, 3.21589994430542, 3.21589994430542, 3.21589994430542, 3.21589994430542, 2.9972000122070312, 3.2286999225616455, 3.2286999225616455, 3.2286999225616455, 3.2286999225616455, 3.2286999225616455, 3.2286999225616455, 3.2286999225616455, 3.2286999225616455, 3.2286999225616455, 3.228600025177002, 3.228600025177002, 3.228600025177002, 3.228600025177002, 3.228600025177002, 3.228600025177002, 3.228600025177002, 3.228600025177002, 3.228600025177002, 3.228600025177002, 3.228600025177002, 3.228600025177002, 3.228600025177002, 3.2284998893737793, 3.2284998893737793, 3.2284998893737793, 3.2284998893737793, 3.2284998893737793, 3.2284998893737793, 3.2284998893737793, 3.2284998893737793, 3.2609000205993652, 3.2609000205993652, 3.2607998847961426, 3.2607998847961426, 3.2607998847961426, 3.2607998847961426, 3.2607998847961426, 3.2607998847961426, 3.2607998847961426, 3.2607998847961426, 3.2607998847961426, 3.2607998847961426, 3.2607998847961426, 3.2607998847961426, 3.2607998847961426, 3.260699987411499, 3.260699987411499, 3.260699987411499, 3.260699987411499, 3.260699987411499, 3.260699987411499, 3.260699987411499, 3.260699987411499, 3.260699987411499, 3.260699987411499, 3.260699987411499, 3.260699987411499, 3.260699987411499, 3.260699987411499, 3.260699987411499, 3.3601999282836914, 3.360100030899048, 3.360100030899048, 3.360100030899048, 3.359999895095825, 3.359999895095825, 3.359999895095825, 3.359999895095825, 3.359999895095825, 3.359999895095825, 3.359999895095825, 3.3598999977111816, 3.3598999977111816, 3.3598999977111816, 3.3598999977111816, 3.3598999977111816, 3.3598999977111816, 3.3598999977111816, 3.3598999977111816, 3.3598999977111816, 3.359800100326538, 3.359800100326538, 3.359800100326538, 3.359800100326538, 3.359800100326538, 3.359800100326538, 3.359800100326538, 3.359800100326538, 3.359800100326538, 3.359800100326538], \"logprob\": [30.0, 29.0, 28.0, 27.0, 26.0, 25.0, 24.0, 23.0, 22.0, 21.0, 20.0, 19.0, 18.0, 17.0, 16.0, 15.0, 14.0, 13.0, 12.0, 11.0, 10.0, 9.0, 8.0, 7.0, 6.0, 5.0, 4.0, 3.0, 2.0, 1.0, -2.6280999183654785, -2.6898999214172363, -2.8201000690460205, -3.1503000259399414, -3.2112998962402344, -3.2441000938415527, -3.245800018310547, -3.3327999114990234, -3.358099937438965, -3.946899890899658, -4.054999828338623, -4.116300106048584, -4.134099960327148, -4.163899898529053, -4.2164998054504395, -4.272799968719482, -4.380000114440918, -4.475500106811523, -4.497399806976318, -4.540200233459473, -4.724999904632568, -4.759099960327148, -4.787499904632568, -4.867800235748291, -4.901599884033203, -4.918600082397461, -5.060299873352051, -5.125699996948242, -5.196300029754639, -5.2399001121521, -3.982599973678589, -4.473599910736084, -1.4077999591827393, -2.2399001121520996, -2.506200075149536, -3.2571001052856445, -3.397599935531616, -3.471400022506714, -4.2804999351501465, -4.574399948120117, -4.676199913024902, -4.690199851989746, -4.795899868011475, -4.819399833679199, -4.905099868774414, -4.981599807739258, -5.082600116729736, -5.13100004196167, -5.133900165557861, -5.162499904632568, -5.303299903869629, -5.33050012588501, -5.363900184631348, -5.447299957275391, -5.491399765014648, -5.492099761962891, -5.518099784851074, -5.548699855804443, -5.563799858093262, -5.603099822998047, -5.6128997802734375, -5.63070011138916, -2.6552999019622803, -3.4356000423431396, -3.7613000869750977, -4.0030999183654785, -4.2133002281188965, -4.344900131225586, -4.442599773406982, -4.563499927520752, -4.640699863433838, -4.654099941253662, -4.660399913787842, -4.732800006866455, -4.794000148773193, -4.814499855041504, -4.816199779510498, -4.871500015258789, -4.879899978637695, -4.911600112915039, -5.015200138092041, -5.031599998474121, -5.032599925994873, -5.064000129699707, -5.156300067901611, -5.191199779510498, -5.2245001792907715, -5.224800109863281, -5.275899887084961, -5.280700206756592, -5.287499904632568, -5.293499946594238, -2.724400043487549, -2.991499900817871, -3.133699893951416, -3.420599937438965, -3.5606000423431396, -3.7964000701904297, -3.975100040435791, -3.9893999099731445, -4.000899791717529, -4.202499866485596, -4.279200077056885, -4.299900054931641, -4.302299976348877, -4.456900119781494, -4.62529993057251, -4.6834001541137695, -4.707399845123291, -4.714300155639648, -4.7453999519348145, -4.8053998947143555, -4.854300022125244, -4.897600173950195, -4.924099922180176, -4.990900039672852, -5.072400093078613, -5.165999889373779, -5.173699855804443, -5.208700180053711, -5.214900016784668, -5.222099781036377, -5.004199981689453, -2.4082000255584717, -2.8696000576019287, -3.373699903488159, -3.520699977874756, -3.553299903869629, -3.7430999279022217, -3.9045000076293945, -4.091599941253662, -4.235199928283691, -4.451000213623047, -4.478700160980225, -4.507999897003174, -4.535999774932861, -4.748799800872803, -4.788400173187256, -4.957099914550781, -4.9766998291015625, -4.9816999435424805, -4.989500045776367, -5.161399841308594, -5.1869001388549805, -5.19789981842041, -5.23199987411499, -5.253600120544434, -5.257199764251709, -5.323200225830078, -5.330699920654297, -5.373199939727783, -5.3719000816345215, -5.399499893188477, -2.7802999019622803, -3.149199962615967, -3.3236000537872314, -3.441499948501587, -3.5011000633239746, -3.687000036239624, -3.6882998943328857, -3.8570001125335693, -3.9528000354766846, -4.165299892425537, -4.179699897766113, -4.18720006942749, -4.217100143432617, -4.301400184631348, -4.514100074768066, -4.583700180053711, -4.611599922180176, -4.693999767303467, -4.71150016784668, -4.718200206756592, -4.7382001876831055, -4.775199890136719, -4.77869987487793, -4.840700149536133, -4.8668999671936035, -4.87529993057251, -4.920199871063232, -4.959799766540527, -5.081600189208984, -5.086999893188477, -2.017899990081787, -2.134999990463257, -2.163599967956543, -3.615999937057495, -3.865499973297119, -4.05109977722168, -4.113900184631348, -4.193299770355225, -4.19950008392334, -4.451300144195557, -4.76140022277832, -4.841300010681152, -4.973999977111816, -5.253600120544434, -5.269999980926514, -5.329899787902832, -5.336599826812744, -5.370100021362305, -5.3881001472473145, -5.480999946594238, -5.487299919128418, -5.557499885559082, -5.6244001388549805, -5.682799816131592, -5.710899829864502, -5.7118000984191895, -5.738900184631348, -5.745200157165527, -5.751500129699707, -5.750800132751465, -5.26230001449585, -2.8011999130249023, -3.1851999759674072, -3.38700008392334, -3.513000011444092, -3.544300079345703, -3.749300003051758, -3.7544000148773193, -3.8661000728607178, -3.8949999809265137, -3.9711999893188477, -4.033400058746338, -4.107600212097168, -4.380099773406982, -4.442299842834473, -4.487800121307373, -4.547699928283691, -4.623499870300293, -4.711400032043457, -4.7322998046875, -4.749800205230713, -4.770699977874756, -4.814499855041504, -4.8796000480651855, -4.888199806213379, -4.9070000648498535, -4.914700031280518, -4.928500175476074, -4.937600135803223, -4.982900142669678, -4.9959001541137695, -3.0615999698638916, -3.3564999103546143, -3.4189999103546143, -3.9191999435424805, -3.9514999389648438, -3.967400074005127, -4.02869987487793, -4.13539981842041, -4.183499813079834, -4.190400123596191, -4.412899971008301, -4.439700126647949, -4.492300033569336, -4.498799800872803, -4.556399822235107, -4.620200157165527, -4.6321001052856445, -4.654300212860107, -4.687600135803223, -4.75439977645874, -4.769700050354004, -4.776599884033203, -4.829400062561035, -4.846799850463867, -4.845900058746338, -4.887400150299072, -4.900400161743164, -4.904600143432617, -4.967400074005127, -5.037399768829346, -4.494500160217285, -3.25, -3.3685998916625977, -3.529900074005127, -3.6830999851226807, -3.765899896621704, -3.9217000007629395, -3.960099935531616, -3.9962000846862793, -4.038099765777588, -4.102399826049805, -4.212699890136719, -4.222099781036377, -4.243500232696533, -4.320499897003174, -4.328100204467773, -4.372099876403809, -4.381400108337402, -4.39900016784668, -4.401199817657471, -4.475299835205078, -4.688300132751465, -4.752399921417236, -4.762899875640869, -4.775000095367432, -4.836599826812744, -4.872300148010254, -4.876299858093262, -4.901599884033203, -4.968699932098389, -4.983799934387207, -3.6447999477386475, -3.749300003051758, -3.8469998836517334, -3.938499927520752, -3.952500104904175, -4.049499988555908, -4.05620002746582, -4.100500106811523, -4.197500228881836, -4.2017998695373535, -4.201600074768066, -4.248199939727783, -4.277200222015381, -4.3414998054504395, -4.405799865722656, -4.540599822998047, -4.561500072479248, -4.57390022277832, -4.60290002822876, -4.608699798583984, -4.6128997802734375, -4.616499900817871, -4.697500228881836, -4.7581000328063965, -4.870699882507324, -4.919099807739258, -4.9232001304626465, -5.010499954223633, -5.039599895477295, -5.062600135803223, -4.503600120544434, -3.0708999633789062, -3.125699996948242, -3.2244999408721924, -3.3650999069213867, -3.410099983215332, -4.0391998291015625, -4.131800174713135, -4.57480001449585, -4.6717000007629395, -4.71589994430542, -4.793499946594238, -4.824100017547607, -4.862400054931641, -4.875500202178955, -4.914700031280518, -4.966400146484375, -4.991700172424316, -5.048500061035156, -5.057300090789795, -5.060500144958496, -5.1128997802734375, -5.126800060272217, -5.215099811553955, -5.224599838256836, -5.234399795532227, -5.2459001541137695, -5.268799781799316, -5.287499904632568, -5.286200046539307, -5.2972002029418945, -3.0906999111175537, -3.4707999229431152, -3.535099983215332, -3.684000015258789, -4.063499927520752, -4.140399932861328, -4.224699974060059, -4.3333001136779785, -4.3358001708984375, -4.36870002746582, -4.372300148010254, -4.397900104522705, -4.498700141906738, -4.604499816894531, -4.668700218200684, -4.672900199890137, -4.7118000984191895, -4.831099987030029, -4.866600036621094, -4.86870002746582, -4.927299976348877, -4.978000164031982, -5.004300117492676, -5.005199909210205, -5.013500213623047, -5.079999923706055, -5.1209001541137695, -5.130300045013428, -5.222499847412109, -5.295300006866455, -5.23769998550415, -2.91510009765625, -3.446899890899658, -3.654900074005127, -3.68179988861084, -3.8821001052856445, -3.884999990463257, -3.9465999603271484, -4.008399963378906, -4.054999828338623, -4.110400199890137, -4.510300159454346, -4.548999786376953, -4.602099895477295, -4.6407999992370605, -4.837500095367432, -4.898900032043457, -4.9045000076293945, -4.938499927520752, -4.949999809265137, -4.955699920654297, -4.972499847412109, -4.981800079345703, -4.99370002746582, -5.007199764251709, -5.065400123596191, -5.100900173187256, -5.130499839782715, -5.1350998878479, -5.164000034332275, -5.200799942016602, -2.9723000526428223, -3.330199956893921, -3.3945999145507812, -3.5000998973846436, -3.8768999576568604, -3.943700075149536, -4.074900150299072, -4.365900039672852, -4.510499954223633, -4.565000057220459, -4.666600227355957, -4.6774001121521, -4.714099884033203, -4.739799976348877, -4.776500225067139, -4.835100173950195, -4.861299991607666, -4.858799934387207, -4.990499973297119, -4.999000072479248, -5.032800197601318, -5.034200191497803, -5.042900085449219, -5.100399971008301, -5.159800052642822, -5.217299938201904, -5.249800205230713, -5.2617998123168945, -5.317800045013428, -5.327899932861328, -3.377500057220459, -3.65939998626709, -3.8750998973846436, -4.020899772644043, -4.164999961853027, -4.198200225830078, -4.393899917602539, -4.476399898529053, -4.484099864959717, -4.491199970245361, -4.59499979019165, -4.636499881744385, -4.646399974822998, -4.692699909210205, -4.71120023727417, -4.73859977722168, -4.791299819946289, -4.8130998611450195, -4.827199935913086, -4.848400115966797, -4.865699768066406, -4.890699863433838, -4.926000118255615, -4.930300235748291, -4.999499797821045, -5.013299942016602, -5.0289998054504395, -5.0381999015808105, -5.060500144958496, -5.092800140380859, -3.5297999382019043, -3.593100070953369, -3.7188000679016113, -3.8020999431610107, -4.000899791717529, -4.011199951171875, -4.030600070953369, -4.259900093078613, -4.263999938964844, -4.352700233459473, -4.444300174713135, -4.484399795532227, -4.58050012588501, -4.584700107574463, -4.6066999435424805, -4.710999965667725, -4.750400066375732, -4.780600070953369, -4.8165998458862305, -4.868199825286865, -4.912300109863281, -4.92579984664917, -4.994100093841553, -4.9984002113342285, -5.024499893188477, -5.030600070953369, -5.037399768829346, -5.048999786376953, -5.07390022277832, -5.115600109100342, -5.112400054931641, -2.973400115966797, -3.5148000717163086, -3.7342000007629395, -3.884000062942505, -4.057000160217285, -4.085400104522705, -4.2565999031066895, -4.30679988861084, -4.311500072479248, -4.321800231933594, -4.413099765777588, -4.4421000480651855, -4.459099769592285, -4.526100158691406, -4.523399829864502, -4.5725998878479, -4.5802001953125, -4.636499881744385, -4.699999809265137, -4.700300216674805, -4.721399784088135, -4.770199775695801, -4.771599769592285, -4.851200103759766, -4.918000221252441, -4.929599761962891, -4.949399948120117, -4.954899787902832, -4.970200061798096, -5.018199920654297, -5.017099857330322, -4.034900188446045, -4.079599857330322, -4.181399822235107, -4.204400062561035, -4.250400066375732, -4.356299877166748, -4.430699825286865, -4.459199905395508, -4.5482001304626465, -4.565999984741211, -4.601799964904785, -4.611100196838379, -4.626200199127197, -4.66510009765625, -4.669300079345703, -4.691500186920166, -4.737299919128418, -4.738999843597412, -4.782400131225586, -4.808499813079834, -4.825200080871582, -4.832799911499023, -4.849400043487549, -4.906700134277344, -4.905300140380859, -4.958399772644043, -4.987100124359131, -5.015699863433838, -5.019700050354004, -5.0254998207092285, -3.1012001037597656, -3.287400007247925, -3.732800006866455, -3.751499891281128, -4.343500137329102, -4.41480016708374, -4.542399883270264, -4.56879997253418, -4.582699775695801, -4.604000091552734, -4.691400051116943, -4.716899871826172, -4.877699851989746, -4.894700050354004, -4.902400016784668, -4.9380998611450195, -4.943999767303467, -4.972700119018555, -4.998300075531006, -5.001699924468994, -5.032800197601318, -5.051000118255615, -5.0619001388549805, -5.086100101470947, -5.093100070953369, -5.128499984741211, -5.151599884033203, -5.160200119018555, -5.162600040435791, -5.1921000480651855]}, \"token.table\": {\"Topic\": [3, 7, 17, 7, 3, 11, 6, 6, 1, 17, 14, 4, 4, 15, 8, 18, 14, 6, 6, 11, 4, 10, 10, 6, 2, 17, 12, 16, 9, 9, 12, 10, 2, 7, 8, 19, 13, 14, 18, 6, 1, 3, 7, 15, 10, 10, 5, 19, 19, 5, 11, 13, 13, 13, 1, 20, 20, 20, 4, 19, 15, 5, 19, 17, 18, 11, 4, 15, 19, 19, 11, 4, 7, 7, 4, 10, 8, 17, 15, 15, 13, 18, 7, 16, 2, 17, 6, 8, 16, 19, 18, 14, 18, 13, 7, 7, 16, 9, 7, 14, 14, 17, 18, 13, 11, 11, 11, 10, 14, 13, 13, 13, 20, 20, 1, 15, 3, 6, 16, 17, 2, 15, 12, 6, 8, 18, 18, 16, 14, 18, 6, 10, 16, 16, 13, 20, 12, 17, 12, 12, 3, 2, 2, 17, 1, 17, 15, 15, 19, 5, 9, 16, 9, 8, 1, 6, 3, 3, 15, 16, 18, 5, 5, 14, 18, 9, 9, 8, 5, 6, 8, 18, 4, 13, 16, 5, 7, 7, 15, 2, 9, 19, 11, 6, 6, 1, 9, 11, 20, 8, 12, 20, 16, 16, 17, 6, 19, 13, 2, 14, 16, 1, 18, 6, 3, 17, 17, 17, 16, 13, 9, 3, 14, 5, 5, 7, 1, 13, 19, 17, 15, 8, 9, 20, 19, 19, 7, 7, 1, 7, 12, 13, 8, 8, 20, 5, 12, 12, 20, 3, 20, 19, 7, 17, 17, 15, 8, 11, 9, 16, 10, 20, 3, 2, 12, 5, 4, 16, 2, 11, 18, 20, 7, 3, 3, 9, 6, 10, 7, 1, 18, 10, 20, 15, 5, 6, 7, 14, 18, 17, 9, 11, 6, 6, 12, 10, 6, 12, 4, 6, 4, 14, 9, 18, 17, 16, 19, 2, 8, 4, 4, 18, 12, 19, 13, 19, 19, 4, 4, 2, 2, 12, 9, 4, 6, 9, 13, 5, 14, 5, 18, 5, 5, 11, 11, 17, 3, 4, 9, 6, 14, 20, 8, 16, 9, 13, 9, 4, 17, 10, 19, 11, 17, 14, 6, 2, 15, 3, 13, 13, 1, 12, 8, 2, 14, 5, 19, 3, 5, 18, 9, 13, 10, 18, 6, 14, 1, 12, 9, 5, 9, 4, 8, 14, 14, 4, 1, 7, 20, 12, 15, 15, 8, 5, 3, 3, 4, 3, 3, 2, 8, 2, 7, 11, 17, 15, 2, 2, 4, 18, 4, 15, 19, 9, 16, 5, 16, 8, 11, 16, 17, 18, 10, 2, 11, 15, 7, 4, 2, 16, 10, 16, 11, 9, 5, 8, 8, 10, 7, 2, 1, 14, 20, 7, 2, 17, 8, 3, 4, 11, 10, 4, 12, 13, 19, 14, 12, 5, 2, 9, 12, 13, 7, 14, 18, 13, 1, 12, 11, 16, 2, 12, 12, 12, 4, 18, 6, 7, 20, 7, 14, 5, 3, 20, 17, 17, 15, 7, 16, 11, 18, 16, 1, 13, 4, 3, 19, 4, 18, 20, 3, 9, 10, 15, 9, 8, 10, 10, 3, 3, 15, 15, 15, 15, 2, 10, 1, 10, 13, 6, 16, 14, 5, 1, 10, 1, 7, 10, 1, 11, 12, 10, 1, 3, 19, 20, 1, 1, 3, 11, 13, 20, 8, 12, 12, 9, 1, 18, 17, 20, 2, 2, 18, 10, 20, 5, 20, 11, 18, 7, 15, 19, 11, 17, 11, 6, 15, 20, 16, 16, 20, 9, 14, 20, 6, 2, 14, 15, 19, 12, 10, 10, 4, 20, 13, 15, 1, 17, 14, 19, 13, 20, 19, 9, 1, 11, 8, 1, 11, 1, 8, 8, 12, 13, 1, 10, 19, 1, 11, 8, 4, 8, 14, 1, 17, 17, 14, 5, 3, 3, 13, 5, 5, 3, 2], \"Freq\": [1.0004053115844727, 0.9987027645111084, 0.9997804760932922, 0.9984518885612488, 0.9999561905860901, 1.0005263090133667, 1.0002280473709106, 0.999970555305481, 0.9999364614486694, 1.0001250505447388, 1.0000797510147095, 0.9994839429855347, 0.9993979930877686, 0.9997187852859497, 0.9996746778488159, 0.999484658241272, 0.9998658299446106, 1.0000170469284058, 1.0001267194747925, 0.9994415640830994, 0.9998067617416382, 0.9997985363006592, 1.0000638961791992, 0.9999552965164185, 0.9993155598640442, 0.9991609454154968, 0.9990541338920593, 1.0001509189605713, 0.9995473623275757, 1.0004429817199707, 1.0003570318222046, 0.999834418296814, 0.9999624490737915, 0.9992506504058838, 0.9999433755874634, 1.0001851320266724, 0.9997910261154175, 0.9998794198036194, 0.999210000038147, 0.9992127418518066, 0.9999406933784485, 1.0000125169754028, 0.9088524580001831, 0.09053022414445877, 1.0001708269119263, 1.0002859830856323, 1.0001835823059082, 0.9997426271438599, 0.9995817542076111, 0.9996665120124817, 0.9991019368171692, 0.9997782707214355, 0.999876081943512, 0.9993966221809387, 0.9492009282112122, 0.05080034211277962, 0.9984801411628723, 0.999434769153595, 1.0001254081726074, 0.9990593791007996, 1.0001459121704102, 0.9999980330467224, 0.9995085597038269, 1.0004993677139282, 1.0002331733703613, 0.9991446733474731, 0.9996721744537354, 0.9999622702598572, 0.9996572136878967, 1.0000543594360352, 0.9997244477272034, 1.0001977682113647, 0.9998995065689087, 0.9993153810501099, 1.0003324747085571, 1.0002937316894531, 0.9993504285812378, 1.0004029273986816, 0.9996871948242188, 0.9991759061813354, 0.9997594356536865, 0.9998049736022949, 0.9991989135742188, 0.99973064661026, 0.9997360706329346, 0.9992140531539917, 0.9998102188110352, 1.000201940536499, 0.9999036192893982, 0.9992107152938843, 1.0003507137298584, 0.9994224905967712, 1.0004230737686157, 0.9989088773727417, 0.9999969601631165, 1.0001541376113892, 0.9995683431625366, 0.9999561905860901, 0.9999232888221741, 0.9995536208152771, 0.9997768998146057, 0.9996176958084106, 0.9994722008705139, 0.9991207718849182, 1.0001602172851562, 1.0001193284988403, 0.9996392130851746, 0.9997403621673584, 0.9996105432510376, 0.9999237656593323, 0.9988985061645508, 1.0002539157867432, 0.9992004036903381, 0.99893718957901, 0.9996699690818787, 0.9998937249183655, 1.0001258850097656, 1.0002875328063965, 0.9997602701187134, 1.000111699104309, 1.0000561475753784, 0.9998164176940918, 0.9999029636383057, 1.0002332925796509, 0.9996818900108337, 0.9999299645423889, 0.9999250173568726, 1.0000277757644653, 1.0001622438430786, 0.9999726414680481, 1.0003923177719116, 0.99977707862854, 1.00009286403656, 0.9994362592697144, 0.9993209838867188, 1.0007261037826538, 1.0000593662261963, 0.9996519684791565, 0.9995633363723755, 0.998790442943573, 1.0002326965332031, 0.9999489784240723, 0.9999529719352722, 0.9992666840553284, 1.000162959098816, 0.9995603561401367, 0.9993632435798645, 1.0002872943878174, 1.0005643367767334, 0.9998424649238586, 1.0000927448272705, 0.9997433423995972, 0.9996037483215332, 1.0000966787338257, 1.0000596046447754, 1.000053882598877, 1.000238060951233, 0.9997015595436096, 0.9991481900215149, 0.9999349117279053, 0.9993742108345032, 0.9998356103897095, 0.9994865655899048, 1.00002920627594, 1.0003634691238403, 0.9996895790100098, 1.0000587701797485, 1.00033700466156, 1.0000665187835693, 0.9994473457336426, 1.0001071691513062, 0.9995997548103333, 1.0000059604644775, 0.9997656345367432, 1.0001671314239502, 0.9990316033363342, 0.9995714426040649, 1.0002504587173462, 0.9990808963775635, 0.9996407628059387, 0.9996180534362793, 0.9994729161262512, 1.0001171827316284, 1.0000088214874268, 1.0000606775283813, 0.999942421913147, 1.0004035234451294, 1.000017523765564, 1.0005978345870972, 1.0001181364059448, 0.99959397315979, 0.9987044930458069, 0.9993401765823364, 0.9999091029167175, 1.0000154972076416, 1.0001981258392334, 0.999613881111145, 0.9996512532234192, 0.9991704225540161, 1.0000587701797485, 1.0004966259002686, 1.0000996589660645, 0.9996718764305115, 1.0001050233840942, 1.0000600814819336, 0.9995592832565308, 1.0000697374343872, 1.0002174377441406, 0.9990116953849792, 0.9988566040992737, 0.9999975562095642, 0.9993116855621338, 0.9996733665466309, 0.999545693397522, 0.9994012117385864, 1.0000371932983398, 0.9999486804008484, 0.99972003698349, 0.9990807175636292, 0.9994258284568787, 0.9997588396072388, 1.0003228187561035, 0.9998896718025208, 0.9999978542327881, 0.9993164539337158, 0.9994058609008789, 0.999984860420227, 0.9999799132347107, 1.0000892877578735, 0.9994029402732849, 0.9991815686225891, 1.0001811981201172, 1.0001392364501953, 0.9997549057006836, 0.9994706511497498, 1.0005265474319458, 0.9988551735877991, 0.9998894929885864, 1.0002987384796143, 0.9999502301216125, 0.9991142749786377, 1.0000238418579102, 1.0007156133651733, 0.9998014569282532, 0.9991883635520935, 1.0002003908157349, 0.9999871253967285, 0.9994201064109802, 0.9996391534805298, 0.9996564388275146, 0.9999459385871887, 0.9998077154159546, 0.9998716711997986, 1.0002363920211792, 1.0002552270889282, 0.9994582533836365, 0.99994957447052, 0.9995359778404236, 0.9998049139976501, 0.999986469745636, 0.9994272589683533, 0.999852180480957, 0.9994208812713623, 0.9999440312385559, 1.0001083612442017, 1.0000492334365845, 0.9993760585784912, 0.9993343353271484, 0.9993922114372253, 1.0000895261764526, 0.9995093941688538, 0.9996366500854492, 1.0001051425933838, 0.9993247985839844, 0.9998961687088013, 0.9999697804450989, 1.0003293752670288, 1.0001676082611084, 0.9994087219238281, 1.000246286392212, 1.0001431703567505, 1.000105857849121, 0.9999345541000366, 0.999688446521759, 0.9991205334663391, 0.9990910291671753, 0.9999435544013977, 0.9990032315254211, 1.0001134872436523, 0.9998362064361572, 0.9999293088912964, 0.99933922290802, 0.9994195699691772, 0.9991848468780518, 1.0000956058502197, 1.0000064373016357, 0.9991114735603333, 0.9998729228973389, 0.9998956322669983, 0.9998112320899963, 1.0000114440917969, 0.9991373419761658, 0.9994273781776428, 1.0004069805145264, 1.000494360923767, 0.9993081092834473, 0.9996611475944519, 1.0003530979156494, 1.0003992319107056, 1.0006022453308105, 0.9999442100524902, 0.9998669624328613, 1.0002663135528564, 1.0001945495605469, 1.000179648399353, 0.9996182322502136, 1.0002167224884033, 1.0003401041030884, 0.9989465475082397, 0.9990456104278564, 1.0002046823501587, 0.9999423027038574, 1.0001176595687866, 0.9992622137069702, 0.9998638033866882, 0.9990371465682983, 0.9997917413711548, 1.0001624822616577, 0.9994527697563171, 0.9998369812965393, 0.9997828602790833, 0.9995507001876831, 0.9996201395988464, 0.999312698841095, 0.925196647644043, 0.07475448399782181, 0.9993686676025391, 0.9999245405197144, 1.0002071857452393, 1.0000654458999634, 0.9996119737625122, 0.19658279418945312, 0.8033023476600647, 1.0000118017196655, 1.0002294778823853, 0.9998486042022705, 0.9993112683296204, 0.134133443236351, 0.8659497499465942, 1.000172734260559, 1.000101923942566, 0.998629629611969, 0.9998286962509155, 0.9999815821647644, 1.0001665353775024, 0.9999588131904602, 0.9994277358055115, 0.9997631311416626, 0.9991273880004883, 0.9996106028556824, 1.0000500679016113, 1.000290870666504, 0.99916672706604, 0.999415934085846, 1.0001639127731323, 1.0007246732711792, 0.999833881855011, 0.9991387724876404, 1.0003271102905273, 0.9995923638343811, 0.9999268651008606, 1.0005160570144653, 0.9997835755348206, 0.9997199177742004, 0.9999939203262329, 0.9994296431541443, 0.9999842643737793, 0.9995654821395874, 1.0003422498703003, 0.9988832473754883, 0.9998554587364197, 0.99991375207901, 0.9998494982719421, 0.9995158910751343, 1.0000519752502441, 0.9993749260902405, 1.000090479850769, 1.0000184774398804, 1.0002726316452026, 1.0002254247665405, 0.9993512034416199, 0.9999268651008606, 1.000109076499939, 0.9999727010726929, 0.9999334216117859, 1.0003292560577393, 1.0000724792480469, 0.9998701214790344, 0.7923998832702637, 0.20755904912948608, 1.0002599954605103, 0.9989590644836426, 0.9991665482521057, 0.9993245005607605, 0.9993457794189453, 0.9987614750862122, 0.999899685382843, 0.9994882345199585, 1.000301480293274, 1.0002050399780273, 1.0004887580871582, 0.9995788335800171, 0.9999701976776123, 0.9990621209144592, 1.00013267993927, 1.0002330541610718, 0.9997084140777588, 1.0000450611114502, 1.0006492137908936, 0.9999130368232727, 0.9999264478683472, 0.9998471140861511, 0.9992638826370239, 1.0001137256622314, 0.9993786811828613, 0.9998321533203125, 1.0000653266906738, 1.0001981258392334, 0.9998583793640137, 0.9994397759437561, 1.000067949295044, 0.9995844960212708, 1.0001741647720337, 1.0004236698150635, 0.9990309476852417, 0.9999083876609802, 0.9997353553771973, 0.9995404481887817, 0.999714732170105, 1.000149130821228, 0.9994778633117676, 0.9999912977218628, 0.9998964071273804, 0.9995801448822021, 1.0000834465026855, 0.9997371435165405, 0.999018132686615, 0.9996748566627502, 0.9993419051170349, 0.999614953994751, 0.9991106986999512, 0.999993085861206, 1.0002795457839966, 1.0001630783081055, 0.9990014433860779, 0.9992282390594482, 0.9999633431434631, 1.0000981092453003, 0.9995104670524597, 0.9998985528945923, 1.0002847909927368, 0.999692440032959, 0.9993707537651062, 0.998814582824707, 1.0000466108322144, 0.9993952512741089, 1.000156283378601, 1.0006893873214722, 0.9992404580116272, 0.9988354444503784, 0.9992193579673767, 0.9996300935745239, 1.0002741813659668, 0.998611569404602, 0.999855101108551, 0.9998553991317749, 0.9997252225875854, 1.0002493858337402, 1.0000710487365723, 1.0002559423446655, 0.9993840456008911, 0.9991967678070068, 1.000138521194458, 0.9994696378707886, 0.9998980164527893, 0.9994363188743591, 0.9999932646751404, 0.9998779296875, 1.0000194311141968, 0.999899685382843, 0.9989578723907471, 1.0002354383468628, 1.0001798868179321, 0.999740481376648, 0.9997314214706421, 1.0000635385513306, 1.0001907348632812, 0.9995841979980469, 0.9989113807678223, 0.9999169707298279, 0.9999352693557739, 0.9996316432952881, 1.0001782178878784, 0.9996470808982849, 0.9996498823165894, 0.9993561506271362, 0.999754011631012, 0.9995335936546326, 0.9997149705886841, 1.0000187158584595, 0.9999071359634399, 1.0000523328781128, 1.000070571899414, 1.0001815557479858, 0.9999849796295166, 1.0000003576278687, 1.000599980354309, 0.9998747706413269, 0.9999223947525024, 0.9999914765357971, 0.9999494552612305, 1.0000584125518799, 1.0000076293945312, 1.0001174211502075, 0.9996657371520996, 1.0001403093338013, 0.9999008178710938, 0.9999672174453735, 0.9996334314346313, 1.000594139099121, 0.99997478723526, 0.999724268913269, 0.9998582005500793, 0.9991662502288818, 0.9996605515480042, 1.000065803527832, 0.9998436570167542, 0.9995303153991699, 0.9991111755371094, 0.9993293285369873, 1.0001533031463623, 1.000006914138794, 0.9996588230133057, 0.9999716281890869, 0.9998978972434998, 1.0004661083221436, 0.9984614849090576, 1.0002351999282837, 1.0001307725906372, 0.9993252754211426, 0.999347984790802, 1.0000430345535278, 1.0002648830413818, 0.9997752904891968, 0.9999303817749023, 0.9996825456619263, 0.999655544757843, 0.9998526573181152, 0.9999330639839172, 0.9999352693557739, 1.0002272129058838, 0.9998032450675964, 1.0001391172409058, 0.9996015429496765, 0.9995301961898804, 0.9993143081665039, 0.9993348121643066, 0.9997979998588562, 0.9996712803840637, 0.9999831914901733, 0.9998745918273926, 0.9996047616004944, 0.9999908804893494, 0.9994948506355286, 0.9998413324356079, 1.0002992153167725, 1.0000746250152588, 0.9993128776550293, 0.9999781847000122, 0.9989141821861267, 0.9998594522476196, 1.000045657157898, 0.9998626112937927, 0.9996617436408997, 0.9999446868896484, 0.9999859929084778, 1.0000334978103638, 0.999728262424469, 0.9997792840003967, 1.0001766681671143, 0.9999984502792358, 0.9999428391456604, 0.9998999238014221, 0.999935507774353, 1.0000232458114624, 1.0001916885375977, 0.9988418817520142, 1.0000157356262207, 0.9995067119598389, 0.9998846650123596, 0.9996816515922546, 1.0000035762786865, 0.9991470575332642, 0.9480931162834167, 0.05149387568235397, 1.0003968477249146, 0.999880850315094, 0.9998886585235596, 0.9997795820236206, 0.9997172355651855, 0.999876856803894, 0.9999359250068665, 1.0000277757644653, 0.9996713995933533, 0.9994863271713257], \"Term\": [\"1063atl_playing\", \"2016electionin3words\", \"2016in4words\", \"abortion\", \"about\", \"action\", \"actually\", \"african_american\", \"after\", \"again\", \"against\", \"already\", \"also\", \"alternativeacronyminterpretations\", \"always\", \"always_trump\", \"america\", \"american\", \"american_people\", \"american_thinker\", \"another\", \"anti\", \"anti_trump\", \"anyone\", \"anything\", \"army\", \"around\", \"attack\", \"away\", \"away_from\", \"baby\", \"back\", \"barack_obama\", \"beat\", \"because\", \"become\", \"been\", \"before\", \"beforeitsnews\", \"behind\", \"being\", \"believe\", \"benghazi\", \"benghazi\", \"bernie\", \"bernie_sander\", \"best\", \"better\", \"better_than\", \"betteralternativetodebates\", \"between\", \"bill\", \"bill_clinton\", \"birther\", \"black\", \"black\", \"black_voter\", \"black_woman\", \"blacklivesmatter\", \"blame\", \"bless\", \"blicqer\", \"bomb\", \"book\", \"border\", \"break\", \"breaking\", \"breitbartnews\", \"bring\", \"bush\", \"call\", \"called\", \"campaign\", \"campaign_manager\", \"candidate\", \"care\", \"case\", \"caught\", \"ccot\", \"chance\", \"change\", \"check\", \"chelsea\", \"chicago\", \"child\", \"chris_1791\", \"christian\", \"christmas\", \"christmasaftermath\", \"citizen\", \"city\", \"claim\", \"cleveland_politics\", \"climate_change\", \"clinton\", \"clinton_campaign\", \"clinton_email\", \"clinton_foundation\", \"close\", \"college\", \"come\", \"comey\", \"coming\", \"comment\", \"conservatexian\", \"conservatexian_news\", \"conservatexian_post\", \"conservative\", \"conservative_vw\", \"constitution\", \"control\", \"convention\", \"cop\", \"corrupt\", \"could\", \"country\", \"court\", \"crime\", \"crookedhillary\", \"crowd\", \"cruz\", \"cruzcrew_pjnet\", \"danageezus\", \"day\", \"dead\", \"deal\", \"deal_with\", \"dear\", \"death\", \"debate\", \"delo_taylor\", \"democrat\", \"democratic\", \"democratic_party\", \"dems\", \"deplorable\", \"didn\", \"doe\", \"doesn\", \"dogsongs_midnight\", \"doing\", \"donald\", \"donald_trump\", \"done\", \"down\", \"drudge_report\", \"during\", \"each_other\", \"economy\", \"elected\", \"election\", \"email\", \"enough\", \"even\", \"ever\", \"every\", \"everyone\", \"everything\", \"evidence\", \"face\", \"fact\", \"fake\", \"fake_news\", \"family\", \"fear\", \"feel\", \"fight\", \"finally\", \"find\", \"fire\", \"first\", \"fishtv_midnight\", \"flag\", \"folk\", \"follow\", \"food\", \"foreign\", \"foreign_policy\", \"former\", \"found\", \"foundation\", \"foxnews\", \"free\", \"freedom\", \"friend\", \"from\", \"fuck\", \"full\", \"fund\", \"game\", \"gave\", \"general\", \"george\", \"george_soros\", \"get\", \"getting\", \"giftideasforpoliticians\", \"girl\", \"giselleevns\", \"give\", \"go\", \"going\", \"gonna\", \"good\", \"good_morning\", \"government\", \"great\", \"great_again\", \"group\", \"guess\", \"hand\", \"happened\", \"happy\", \"hashtag\", \"hashtag_game\", \"hate\", \"have\", \"have_been\", \"head\", \"health\", \"heart\", \"hell\", \"help\", \"here\", \"high\", \"high_school\", \"hillary\", \"hillary_clinton\", \"hillaryclinton\", \"history\", \"hold\", \"home\", \"hope\", \"house\", \"i_am_not_e\", \"idea\", \"idrunforpresidentif\", \"idrunforpresidentif_could\", \"ihavearighttoknow\", \"illegal\", \"illegal_immigrant\", \"im_srishabh21\", \"independent\", \"into\", \"investigation\", \"iran\", \"isi\", \"islam\", \"islamkills\", \"israel\", \"issue\", \"jail\", \"jenn_abrams\", \"job\", \"john\", \"join\", \"just\", \"justice\", \"kaine\", \"keep\", \"kill\", \"killed\", \"knew\", \"know\", \"know_what\", \"last\", \"last_night\", \"latest\", \"law\", \"leader\", \"left\", \"liberal\", \"lie\", \"lied_about\", \"life\", \"like\", \"lindasuhler\", \"line\", \"list\", \"listen\", \"little\", \"live\", \"look\", \"look_like\", \"lose\", \"lost\", \"love\", \"lying\", \"made\", \"maga\", \"make\", \"make_america\", \"make_sure\", \"makeamericagreatagain\", \"makemehateyouinonephrase\", \"many\", \"march\", \"matter\", \"mean\", \"medium\", \"meet\", \"meeting_with\", \"megyn_kelly\", \"melania_trump\", \"member\", \"merkel\", \"merkelmussbleiben\", \"message\", \"mexico\", \"michelle\", \"michelle_obama\", \"midnight\", \"mike_pence\", \"mike_penny\", \"military\", \"million\", \"mind\", \"minute\", \"miss\", \"mitchellvii\", \"money\", \"more\", \"more_than\", \"morning\", \"most\", \"move\", \"movie\", \"much\", \"music\", \"muslim\", \"must\", \"mustbebanned\", \"name\", \"nation\", \"national\", \"national\", \"national_security\", \"need\", \"network_citizen\", \"never\", \"neverhillary\", \"news\", \"news\", \"next\", \"night\", \"nine_oh\", \"nominee\", \"north\", \"north\", \"north_carolina\", \"nothing\", \"number\", \"nyc_everyday\", \"obama\", \"obama_admin\", \"obamacare\", \"office\", \"officer\", \"official\", \"ohio\", \"only\", \"open\", \"order\", \"oscarhasnocolor_oscar\", \"other\", \"others\", \"over\", \"paid\", \"pamela_moore13\", \"part\", \"party\", \"past\", \"patriot\", \"paul\", \"paul_ryan\", \"penny\", \"people\", \"person\", \"photo\", \"pick\", \"pjnet\", \"pjnet_tcot\", \"place\", \"plan\", \"play\", \"playing\", \"please\", \"police\", \"police_officer\", \"policy\", \"political\", \"politics\", \"poll\", \"post\", \"potus\", \"power\", \"president\", \"president_obama\", \"presidential\", \"presidential\", \"press\", \"prison\", \"problem\", \"protect\", \"protest\", \"protester\", \"public\", \"putin\", \"question\", \"race\", \"racism\", \"racist\", \"rally\", \"rape\", \"read\", \"ready\", \"real\", \"realdonaldtrump\", \"realdonaldtrump_thank\", \"reallifemagicspells\", \"really\", \"reason\", \"record\", \"refugee\", \"rejecteddebatetopics\", \"remember\", \"remember_when\", \"report\", \"republican\", \"retweet\", \"right\", \"rock\", \"rt_america\", \"rt_com\", \"ruinadinnerinonephrase\", \"russia\", \"russian\", \"safe\", \"said\", \"same\", \"sander\", \"save\", \"say\", \"saying\", \"school\", \"second\", \"second_amendment\", \"secondhandgifts\", \"secret\", \"security\", \"senate\", \"share\", \"sheriff\", \"shit\", \"shooting\", \"shot\", \"should\", \"show\", \"sign\", \"since\", \"single\", \"social\", \"social_medium\", \"solely_toya\", \"some\", \"someone\", \"something\", \"song\", \"sorry\", \"speak\", \"special\", \"speech\", \"sport\", \"spread\", \"stand\", \"stand_with\", \"star\", \"start\", \"state\", \"state_dept\", \"stay\", \"step\", \"still\", \"stonewall_77\", \"stop\", \"story\", \"student\", \"stupid\", \"support\", \"supporter\", \"supreme_court\", \"sure\", \"survivalguidetothanksgiving\", \"syria\", \"syrian_refugee\", \"take\", \"talk\", \"talk_about\", \"talking\", \"talking_about\", \"tcot\", \"tcot_ccot\", \"tcot_lnyhbt\", \"tcot_pjnet\", \"team\", \"teaparty\", \"tell\", \"ten_gop\", \"terrorism\", \"terrorist\", \"terrorist_attack\", \"texas\", \"than\", \"thank\", \"thanks\", \"that\", \"thehill\", \"their\", \"them\", \"then\", \"there\", \"these\", \"they\", \"thing\", \"thingsmoretrustedthanhillary\", \"thingsyoucantignore\", \"think\", \"this\", \"this_country\", \"this_morning\", \"this_week\", \"those\", \"thought\", \"threat\", \"through\", \"time\", \"today\", \"todolistbeforechristmas\", \"together\", \"told\", \"true\", \"trump\", \"trump2016\", \"trump_rally\", \"trump_supporter\", \"trump_tower\", \"trumpbecause\", \"trumpforpresident\", \"trumppence16\", \"trumppence16_maga\", \"trumptrain\", \"truth\", \"trying\", \"turn\", \"tweet\", \"twitter\", \"under\", \"under_obama\", \"united\", \"united_state\", \"until\", \"used\", \"using\", \"valentinesdayin3words\", \"very\", \"veteran\", \"victim\", \"video\", \"violence\", \"vote\", \"voter\", \"voter_fraud\", \"voting\", \"wait\", \"wakeupamerica\", \"wall\", \"want\", \"washington\", \"watch\", \"water\", \"week\", \"welcome\", \"well\", \"were\", \"what\", \"what_happens\", \"when\", \"where\", \"which\", \"while\", \"white\", \"white_house\", \"wife\", \"wikileaks\", \"will\", \"will_never\", \"win\", \"with\", \"without\", \"woman\", \"word\", \"work\", \"working\", \"world\", \"world\", \"world_news\", \"worst\", \"would\", \"would_have\", \"wrong\", \"year\", \"york\", \"your\", \"yourself\", \"zaibatsunews\"]}, \"R\": 30, \"lambda.step\": 0.01, \"plot.opts\": {\"xlab\": \"PC1\", \"ylab\": \"PC2\"}, \"topic.order\": [13, 2, 1, 16, 6, 18, 3, 19, 15, 17, 7, 8, 10, 20, 4, 12, 9, 14, 11, 5]};\n",
       "\n",
       "function LDAvis_load_lib(url, callback){\n",
       "  var s = document.createElement('script');\n",
       "  s.src = url;\n",
       "  s.async = true;\n",
       "  s.onreadystatechange = s.onload = callback;\n",
       "  s.onerror = function(){console.warn(\"failed to load library \" + url);};\n",
       "  document.getElementsByTagName(\"head\")[0].appendChild(s);\n",
       "}\n",
       "\n",
       "if(typeof(LDAvis) !== \"undefined\"){\n",
       "   // already loaded: just create the visualization\n",
       "   !function(LDAvis){\n",
       "       new LDAvis(\"#\" + \"ldavis_el7771122709898567160243258\", ldavis_el7771122709898567160243258_data);\n",
       "   }(LDAvis);\n",
       "}else if(typeof define === \"function\" && define.amd){\n",
       "   // require.js is available: use it to load d3/LDAvis\n",
       "   require.config({paths: {d3: \"https://cdnjs.cloudflare.com/ajax/libs/d3/3.5.5/d3.min\"}});\n",
       "   require([\"d3\"], function(d3){\n",
       "      window.d3 = d3;\n",
       "      LDAvis_load_lib(\"https://cdn.rawgit.com/bmabey/pyLDAvis/files/ldavis.v1.0.0.js\", function(){\n",
       "        new LDAvis(\"#\" + \"ldavis_el7771122709898567160243258\", ldavis_el7771122709898567160243258_data);\n",
       "      });\n",
       "    });\n",
       "}else{\n",
       "    // require.js not available: dynamically load d3 & LDAvis\n",
       "    LDAvis_load_lib(\"https://cdnjs.cloudflare.com/ajax/libs/d3/3.5.5/d3.min.js\", function(){\n",
       "         LDAvis_load_lib(\"https://cdn.rawgit.com/bmabey/pyLDAvis/files/ldavis.v1.0.0.js\", function(){\n",
       "                 new LDAvis(\"#\" + \"ldavis_el7771122709898567160243258\", ldavis_el7771122709898567160243258_data);\n",
       "            })\n",
       "         });\n",
       "}\n",
       "</script>"
      ],
      "text/plain": [
       "PreparedData(topic_coordinates=              x         y  topics  cluster       Freq\n",
       "topic                                                \n",
       "12    -0.019794  0.349719       1        1  11.323096\n",
       "1      0.039046 -0.017167       2        1   6.732718\n",
       "0      0.041103 -0.036296       3        1   5.688047\n",
       "15     0.054374 -0.092132       4        1   5.635257\n",
       "5      0.037182 -0.020455       5        1   5.191975\n",
       "17     0.037562 -0.019789       6        1   5.121435\n",
       "2      0.040789 -0.025827       7        1   5.096361\n",
       "18     0.037661 -0.019517       8        1   5.030825\n",
       "14     0.047868 -0.066318       9        1   4.856785\n",
       "16     0.037296 -0.020099      10        1   4.690160\n",
       "6     -0.331616 -0.059758      11        1   4.535310\n",
       "7      0.036628 -0.020920      12        1   4.329830\n",
       "9      0.049373 -0.069368      13        1   4.258439\n",
       "19     0.036178 -0.021356      14        1   4.116919\n",
       "3      0.039542 -0.026767      15        1   4.089090\n",
       "11     0.036205 -0.021331      16        1   4.024917\n",
       "8     -0.331201 -0.012422      17        1   4.010527\n",
       "13     0.047336 -0.073200      18        1   3.960440\n",
       "10     0.035904 -0.021614      19        1   3.835068\n",
       "4      0.028564  0.294615      20        1   3.472795, topic_info=     Category          Freq                   Term         Total  loglift  \\\n",
       "term                                                                        \n",
       "40    Default  31942.000000                  trump  31942.000000  30.0000   \n",
       "23    Default  13136.000000                clinton  13136.000000  29.0000   \n",
       "169   Default  13898.000000           donald_trump  13898.000000  28.0000   \n",
       "25    Default  11684.000000        hillary_clinton  11684.000000  27.0000   \n",
       "45    Default  15854.000000                   that  15854.000000  26.0000   \n",
       "24    Default  11355.000000                hillary  11355.000000  25.0000   \n",
       "76    Default  14905.000000                   this  14905.000000  24.0000   \n",
       "81    Default  10650.000000                  obama  10650.000000  23.0000   \n",
       "155   Default  13085.000000                   with  13085.000000  22.0000   \n",
       "68    Default   9057.000000                   your   9057.000000  21.0000   \n",
       "122   Default   7751.000000                  about   7751.000000  20.0000   \n",
       "186   Default   7166.000000                   just   7166.000000  19.0000   \n",
       "107   Default   9405.000000                   will   9405.000000  18.0000   \n",
       "336   Default   8848.000000                   they   8848.000000  17.0000   \n",
       "59    Default   8563.000000                   what   8563.000000  16.0000   \n",
       "177   Default   8548.000000                   have   8548.000000  15.0000   \n",
       "11    Default   6159.000000                   like   6159.000000  14.0000   \n",
       "15    Default   5924.000000                   when   5924.000000  13.0000   \n",
       "220   Default   7836.000000                   from   7836.000000  12.0000   \n",
       "4     Default   5710.000000                   more   5710.000000  11.0000   \n",
       "35    Default   7641.000000                 people   7641.000000  10.0000   \n",
       "771   Default   5486.000000        realdonaldtrump   5486.000000   9.0000   \n",
       "281   Default   4326.000000                america   4326.000000   8.0000   \n",
       "193   Default   4759.000000                   make   4759.000000   7.0000   \n",
       "168   Default   5026.000000                 donald   5026.000000   6.0000   \n",
       "170   Default   4949.000000                   news   4949.000000   5.0000   \n",
       "217   Default   4408.000000                   time   4408.000000   4.0000   \n",
       "435   Default   4058.000000                   tcot   4058.000000   3.0000   \n",
       "188   Default   4258.000000               american   4258.000000   2.0000   \n",
       "162   Default   3894.000000                   vote   3894.000000   1.0000   \n",
       "...       ...           ...                    ...           ...      ...   \n",
       "787   Topic20   3029.844727                   here   3030.006592   3.3602   \n",
       "180   Topic20   2515.095459        trump_supporter   2515.256836   3.3601   \n",
       "179   Topic20   1611.000732              supporter   1611.161621   3.3601   \n",
       "436   Topic20   1581.275269                  those   1581.436035   3.3601   \n",
       "1646  Topic20    874.748169                    lie    874.908020   3.3600   \n",
       "1458  Topic20    814.561218                  photo    814.721191   3.3600   \n",
       "1087  Topic20    716.946045                 killed    717.106018   3.3600   \n",
       "322   Topic20    698.308777                   told    698.468445   3.3600   \n",
       "1652  Topic20    688.683655                  until    688.843506   3.3600   \n",
       "1568  Topic20    674.180847                   wait    674.340637   3.3600   \n",
       "591   Topic20    617.753479    thingsyoucantignore    617.913269   3.3600   \n",
       "4117  Topic20    602.180786            black_woman    602.340454   3.3599   \n",
       "5557  Topic20    512.751282             rt_america    512.910645   3.3599   \n",
       "5928  Topic20    504.067383           mustbebanned    504.226562   3.3599   \n",
       "608   Topic20    500.240967                    cop    500.400116   3.3599   \n",
       "713   Topic20    482.696289      ihavearighttoknow    482.855743   3.3599   \n",
       "121   Topic20    479.818817                welcome    479.978088   3.3599   \n",
       "5836  Topic20    466.254120      illegal_immigrant    466.413116   3.3599   \n",
       "160   Topic20    454.472137                 spread    454.631226   3.3599   \n",
       "6125  Topic20    452.928131                   jail    453.087128   3.3599   \n",
       "587   Topic20    439.073212             i_am_not_e    439.232513   3.3598   \n",
       "2941  Topic20    431.168335                  sorry    431.327606   3.3598   \n",
       "3849  Topic20    426.489258            black_voter    426.648438   3.3598   \n",
       "1644  Topic20    416.283264                corrupt    416.442596   3.3598   \n",
       "1112  Topic20    413.376617                general    413.535736   3.3598   \n",
       "1085  Topic20    398.999939  valentinesdayin3words    399.159058   3.3598   \n",
       "154   Topic20    389.898804            under_obama    390.057465   3.3598   \n",
       "7002  Topic20    386.560364             deplorable    386.719208   3.3598   \n",
       "4957  Topic20    385.610687                   fund    385.769379   3.3598   \n",
       "106   Topic20    374.417603           trumpbecause    374.576294   3.3598   \n",
       "\n",
       "      logprob  \n",
       "term           \n",
       "40    30.0000  \n",
       "23    29.0000  \n",
       "169   28.0000  \n",
       "25    27.0000  \n",
       "45    26.0000  \n",
       "24    25.0000  \n",
       "76    24.0000  \n",
       "81    23.0000  \n",
       "155   22.0000  \n",
       "68    21.0000  \n",
       "122   20.0000  \n",
       "186   19.0000  \n",
       "107   18.0000  \n",
       "336   17.0000  \n",
       "59    16.0000  \n",
       "177   15.0000  \n",
       "11    14.0000  \n",
       "15    13.0000  \n",
       "220   12.0000  \n",
       "4     11.0000  \n",
       "35    10.0000  \n",
       "771    9.0000  \n",
       "281    8.0000  \n",
       "193    7.0000  \n",
       "168    6.0000  \n",
       "170    5.0000  \n",
       "217    4.0000  \n",
       "435    3.0000  \n",
       "188    2.0000  \n",
       "162    1.0000  \n",
       "...       ...  \n",
       "787   -3.1012  \n",
       "180   -3.2874  \n",
       "179   -3.7328  \n",
       "436   -3.7515  \n",
       "1646  -4.3435  \n",
       "1458  -4.4148  \n",
       "1087  -4.5424  \n",
       "322   -4.5688  \n",
       "1652  -4.5827  \n",
       "1568  -4.6040  \n",
       "591   -4.6914  \n",
       "4117  -4.7169  \n",
       "5557  -4.8777  \n",
       "5928  -4.8947  \n",
       "608   -4.9024  \n",
       "713   -4.9381  \n",
       "121   -4.9440  \n",
       "5836  -4.9727  \n",
       "160   -4.9983  \n",
       "6125  -5.0017  \n",
       "587   -5.0328  \n",
       "2941  -5.0510  \n",
       "3849  -5.0619  \n",
       "1644  -5.0861  \n",
       "1112  -5.0931  \n",
       "1085  -5.1285  \n",
       "154   -5.1516  \n",
       "7002  -5.1602  \n",
       "4957  -5.1626  \n",
       "106   -5.1921  \n",
       "\n",
       "[639 rows x 6 columns], token_table=      Topic      Freq                               Term\n",
       "term                                                    \n",
       "2845      3  1.000405                    1063atl_playing\n",
       "2228      7  0.998703               2016electionin3words\n",
       "1868     17  0.999780                       2016in4words\n",
       "1995      7  0.998452                           abortion\n",
       "122       3  0.999956                              about\n",
       "239      11  1.000526                             action\n",
       "287       6  1.000228                           actually\n",
       "5880      6  0.999971                   african_american\n",
       "137       1  0.999936                              after\n",
       "1107     17  1.000125                              again\n",
       "30       14  1.000080                            against\n",
       "2432      4  0.999484                            already\n",
       "881       4  0.999398                               also\n",
       "967      15  0.999719  alternativeacronyminterpretations\n",
       "2583      8  0.999675                             always\n",
       "757      18  0.999485                       always_trump\n",
       "281      14  0.999866                            america\n",
       "188       6  1.000017                           american\n",
       "2488      6  1.000127                    american_people\n",
       "350      11  0.999442                   american_thinker\n",
       "163       4  0.999807                            another\n",
       "125      10  0.999799                               anti\n",
       "126      10  1.000064                         anti_trump\n",
       "839       6  0.999955                             anyone\n",
       "262       2  0.999316                           anything\n",
       "2876     17  0.999161                               army\n",
       "1169     12  0.999054                             around\n",
       "1440     16  1.000151                             attack\n",
       "352       9  0.999547                               away\n",
       "828       9  1.000443                          away_from\n",
       "...     ...       ...                                ...\n",
       "1291     11  0.999986                       what_happens\n",
       "15        8  1.000033                               when\n",
       "406       1  0.999728                              where\n",
       "1913     11  0.999779                              which\n",
       "1068      1  1.000177                              while\n",
       "182       8  0.999998                              white\n",
       "428       8  0.999943                        white_house\n",
       "2438     12  0.999900                               wife\n",
       "1643     13  0.999936                          wikileaks\n",
       "107       1  1.000023                               will\n",
       "1994     10  1.000192                         will_never\n",
       "1011     19  0.998842                                win\n",
       "155       1  1.000016                               with\n",
       "821      11  0.999507                            without\n",
       "261       8  0.999885                              woman\n",
       "86        4  0.999682                               word\n",
       "642       8  1.000004                               work\n",
       "1661     14  0.999147                            working\n",
       "328       1  0.948093                              world\n",
       "328      17  0.051494                              world\n",
       "3538     17  1.000397                         world_news\n",
       "1186     14  0.999881                              worst\n",
       "876       5  0.999889                              would\n",
       "3023      3  0.999780                         would_have\n",
       "1187      3  0.999717                              wrong\n",
       "292      13  0.999877                               year\n",
       "1194      5  0.999936                               york\n",
       "68        5  1.000028                               your\n",
       "2396      3  0.999671                           yourself\n",
       "551       2  0.999486                       zaibatsunews\n",
       "\n",
       "[615 rows x 3 columns], R=30, lambda_step=0.01, plot_opts={'xlab': 'PC1', 'ylab': 'PC2'}, topic_order=[13, 2, 1, 16, 6, 18, 3, 19, 15, 17, 7, 8, 10, 20, 4, 12, 9, 14, 11, 5])"
      ]
     },
     "execution_count": 28,
     "metadata": {},
     "output_type": "execute_result"
    }
   ],
   "source": [
    "pyLDAvis.gensim.prepare(model, corpus, dictionary)"
   ]
  },
  {
   "cell_type": "code",
   "execution_count": null,
   "metadata": {},
   "outputs": [],
   "source": []
  }
 ],
 "metadata": {
  "kernelspec": {
   "display_name": "Python 3",
   "language": "python",
   "name": "python3"
  },
  "language_info": {
   "codemirror_mode": {
    "name": "ipython",
    "version": 3
   },
   "file_extension": ".py",
   "mimetype": "text/x-python",
   "name": "python",
   "nbconvert_exporter": "python",
   "pygments_lexer": "ipython3",
   "version": "3.6.5"
  }
 },
 "nbformat": 4,
 "nbformat_minor": 2
}
